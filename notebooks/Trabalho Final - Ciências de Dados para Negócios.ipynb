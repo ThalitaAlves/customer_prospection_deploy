{
 "cells": [
  {
   "cell_type": "markdown",
   "metadata": {
    "id": "qKJXmUsKv5ua"
   },
   "source": [
    "#Trabalho Final de Ciências de Dados para Negócios"
   ]
  },
  {
   "cell_type": "markdown",
   "metadata": {
    "id": "9OVkuR0Fv7rK"
   },
   "source": [
    "Equipe:\n",
    "*   Jessyca Moraes\n",
    "*   Tammy Gusmão\n",
    "*   Thalita Alves\n"
   ]
  },
  {
   "cell_type": "markdown",
   "metadata": {
    "id": "oYhDLLBUv7cu"
   },
   "source": [
    "Fonte: https://www.kaggle.com/benpowis/customer-propensity-to-purchase-data"
   ]
  },
  {
   "cell_type": "markdown",
   "metadata": {
    "id": "31dSJ42mv73Y"
   },
   "source": [
    "##Descrição do Dataset"
   ]
  },
  {
   "cell_type": "markdown",
   "metadata": {
    "id": "cM9fBg5wzJ9s"
   },
   "source": [
    "O dataset escolhido contém valores que representam um dia de visita a um site fictício. Cada linha representa um cliente exclusivo, identificado por seu `UserID` exclusivo. As colunas representam características da visita dos usuários (como o dispositivo que eles estavam usando) e o seu comportamento - o que o usuário fez no site naquele dia. Por exemplo, são adquiridas as seguintes informações: \n",
    "\n",
    "* O cliente adicionou algum produto no carrinho a partir da página do produto. Trata-se da coluna `basket_add_detail`.\n",
    "* O cliente fez login no website? Trata-se da coluna `sign_in`.\n",
    "* O cliente visitou a *homepage* do site? Referente a coluna `saw_homepage`.\n",
    "* O cliente é novo no site ou não? Refere-se a coluna `returning_user`.\n",
    "\n",
    "A *feature target* do dataset é a coluna `ordered`, que informa se o cliente fez alguma compra ou não. A predição é feita em cima desta *feature*.\n",
    "\n",
    "O dataset está disponibilizado em dois arquivos .csv, separados em conjuntos próprios para treinamento e teste."
   ]
  },
  {
   "cell_type": "markdown",
   "metadata": {
    "id": "BPSfP6SBzNp7"
   },
   "source": [
    "##Imports e Utils"
   ]
  },
  {
   "cell_type": "code",
   "execution_count": 1,
   "metadata": {
    "colab": {
     "base_uri": "https://localhost:8080/"
    },
    "executionInfo": {
     "elapsed": 448,
     "status": "ok",
     "timestamp": 1636770336099,
     "user": {
      "displayName": "Tammy Gusmão",
      "photoUrl": "https://lh3.googleusercontent.com/a/default-user=s64",
      "userId": "03220826031629281663"
     },
     "user_tz": 240
    },
    "id": "ID08XxXWv4ra",
    "outputId": "ba0e9741-bbd5-49ef-c247-f8112c784619"
   },
   "outputs": [],
   "source": [
    "import pandas as pd\n",
    "import numpy as np\n",
    "import os\n",
    "import seaborn as sns\n",
    "import matplotlib.pylab as plt\n",
    "from sklearn.model_selection  import train_test_split\n",
    "from sklearn.metrics import classification_report\n",
    "import sklearn.metrics\n",
    "import itertools\n",
    "from scipy.spatial import distance\n",
    "from imblearn.over_sampling import RandomOverSampler\n",
    "from sklearn.metrics import classification_report, confusion_matrix\n",
    "import pickle"
   ]
  },
  {
   "cell_type": "code",
   "execution_count": 1,
   "metadata": {
    "colab": {
     "base_uri": "https://localhost:8080/"
    },
    "executionInfo": {
     "elapsed": 2784,
     "status": "ok",
     "timestamp": 1636770323371,
     "user": {
      "displayName": "Tammy Gusmão",
      "photoUrl": "https://lh3.googleusercontent.com/a/default-user=s64",
      "userId": "03220826031629281663"
     },
     "user_tz": 240
    },
    "id": "v9GriSEN3cQD",
    "outputId": "4749364e-ae32-4eb4-f88c-87c7cf30e2ea"
   },
   "outputs": [
    {
     "name": "stdout",
     "output_type": "stream",
     "text": [
      "2.7.0\n"
     ]
    }
   ],
   "source": [
    "import tensorflow as tf\n",
    "print(tf.__version__)"
   ]
  },
  {
   "cell_type": "code",
   "execution_count": 3,
   "metadata": {
    "colab": {
     "base_uri": "https://localhost:8080/"
    },
    "executionInfo": {
     "elapsed": 303,
     "status": "ok",
     "timestamp": 1636770332890,
     "user": {
      "displayName": "Tammy Gusmão",
      "photoUrl": "https://lh3.googleusercontent.com/a/default-user=s64",
      "userId": "03220826031629281663"
     },
     "user_tz": 240
    },
    "id": "or8XO2qV4xS1",
    "outputId": "36d9bdfe-c979-4eeb-fc6b-ee720d8d22d0"
   },
   "outputs": [
    {
     "name": "stdout",
     "output_type": "stream",
     "text": [
      "2.7.0\n"
     ]
    }
   ],
   "source": [
    "from tensorflow import keras\n",
    "print(keras.__version__)"
   ]
  },
  {
   "cell_type": "code",
   "execution_count": 5,
   "metadata": {
    "executionInfo": {
     "elapsed": 291,
     "status": "ok",
     "timestamp": 1636770340289,
     "user": {
      "displayName": "Tammy Gusmão",
      "photoUrl": "https://lh3.googleusercontent.com/a/default-user=s64",
      "userId": "03220826031629281663"
     },
     "user_tz": 240
    },
    "id": "V4SZf8gb9kl8"
   },
   "outputs": [],
   "source": [
    "from keras.models import Sequential\n",
    "from keras.layers import Dense, Dropout"
   ]
  },
  {
   "cell_type": "markdown",
   "metadata": {
    "id": "hJW5dVDvza_A"
   },
   "source": [
    "##Carregando o Dataset"
   ]
  },
  {
   "cell_type": "code",
   "execution_count": 6,
   "metadata": {
    "colab": {
     "base_uri": "https://localhost:8080/"
    },
    "executionInfo": {
     "elapsed": 19680,
     "status": "ok",
     "timestamp": 1636770362234,
     "user": {
      "displayName": "Tammy Gusmão",
      "photoUrl": "https://lh3.googleusercontent.com/a/default-user=s64",
      "userId": "03220826031629281663"
     },
     "user_tz": 240
    },
    "id": "hW8FazGz03RM",
    "outputId": "0bfd2993-0aba-4927-c554-449c71b7f05a"
   },
   "outputs": [
    {
     "name": "stdout",
     "output_type": "stream",
     "text": [
      "Mounted at /content/drive\n"
     ]
    }
   ],
   "source": []
  },
  {
   "cell_type": "code",
   "execution_count": 3,
   "metadata": {
    "colab": {
     "base_uri": "https://localhost:8080/",
     "height": 1000
    },
    "executionInfo": {
     "elapsed": 2793,
     "status": "ok",
     "timestamp": 1636770366930,
     "user": {
      "displayName": "Tammy Gusmão",
      "photoUrl": "https://lh3.googleusercontent.com/a/default-user=s64",
      "userId": "03220826031629281663"
     },
     "user_tz": 240
    },
    "id": "tquU5wmOywGm",
    "outputId": "2b83203e-b309-41c5-cf85-d9a3bf4f213b"
   },
   "outputs": [
    {
     "data": {
      "text/html": [
       "<div>\n",
       "<style scoped>\n",
       "    .dataframe tbody tr th:only-of-type {\n",
       "        vertical-align: middle;\n",
       "    }\n",
       "\n",
       "    .dataframe tbody tr th {\n",
       "        vertical-align: top;\n",
       "    }\n",
       "\n",
       "    .dataframe thead th {\n",
       "        text-align: right;\n",
       "    }\n",
       "</style>\n",
       "<table border=\"1\" class=\"dataframe\">\n",
       "  <thead>\n",
       "    <tr style=\"text-align: right;\">\n",
       "      <th></th>\n",
       "      <th>UserID</th>\n",
       "      <th>basket_icon_click</th>\n",
       "      <th>basket_add_list</th>\n",
       "      <th>basket_add_detail</th>\n",
       "      <th>sort_by</th>\n",
       "      <th>image_picker</th>\n",
       "      <th>account_page_click</th>\n",
       "      <th>promo_banner_click</th>\n",
       "      <th>detail_wishlist_add</th>\n",
       "      <th>list_size_dropdown</th>\n",
       "      <th>...</th>\n",
       "      <th>saw_sizecharts</th>\n",
       "      <th>saw_delivery</th>\n",
       "      <th>saw_account_upgrade</th>\n",
       "      <th>saw_homepage</th>\n",
       "      <th>device_mobile</th>\n",
       "      <th>device_computer</th>\n",
       "      <th>device_tablet</th>\n",
       "      <th>returning_user</th>\n",
       "      <th>loc_uk</th>\n",
       "      <th>ordered</th>\n",
       "    </tr>\n",
       "  </thead>\n",
       "  <tbody>\n",
       "    <tr>\n",
       "      <th>0</th>\n",
       "      <td>a720-6b732349-a720-4862-bd21-644732</td>\n",
       "      <td>0</td>\n",
       "      <td>0</td>\n",
       "      <td>0</td>\n",
       "      <td>0</td>\n",
       "      <td>0</td>\n",
       "      <td>0</td>\n",
       "      <td>0</td>\n",
       "      <td>0</td>\n",
       "      <td>0</td>\n",
       "      <td>...</td>\n",
       "      <td>0</td>\n",
       "      <td>0</td>\n",
       "      <td>0</td>\n",
       "      <td>0</td>\n",
       "      <td>1</td>\n",
       "      <td>0</td>\n",
       "      <td>0</td>\n",
       "      <td>0</td>\n",
       "      <td>1</td>\n",
       "      <td>0</td>\n",
       "    </tr>\n",
       "    <tr>\n",
       "      <th>1</th>\n",
       "      <td>a0c0-6b73247c-a0c0-4bd9-8baa-797356</td>\n",
       "      <td>0</td>\n",
       "      <td>0</td>\n",
       "      <td>0</td>\n",
       "      <td>0</td>\n",
       "      <td>0</td>\n",
       "      <td>0</td>\n",
       "      <td>0</td>\n",
       "      <td>0</td>\n",
       "      <td>0</td>\n",
       "      <td>...</td>\n",
       "      <td>0</td>\n",
       "      <td>0</td>\n",
       "      <td>0</td>\n",
       "      <td>0</td>\n",
       "      <td>1</td>\n",
       "      <td>0</td>\n",
       "      <td>0</td>\n",
       "      <td>0</td>\n",
       "      <td>1</td>\n",
       "      <td>0</td>\n",
       "    </tr>\n",
       "    <tr>\n",
       "      <th>2</th>\n",
       "      <td>86a8-6b735c67-86a8-407b-ba24-333055</td>\n",
       "      <td>0</td>\n",
       "      <td>0</td>\n",
       "      <td>0</td>\n",
       "      <td>0</td>\n",
       "      <td>0</td>\n",
       "      <td>0</td>\n",
       "      <td>0</td>\n",
       "      <td>0</td>\n",
       "      <td>0</td>\n",
       "      <td>...</td>\n",
       "      <td>0</td>\n",
       "      <td>0</td>\n",
       "      <td>0</td>\n",
       "      <td>0</td>\n",
       "      <td>1</td>\n",
       "      <td>0</td>\n",
       "      <td>0</td>\n",
       "      <td>1</td>\n",
       "      <td>1</td>\n",
       "      <td>0</td>\n",
       "    </tr>\n",
       "    <tr>\n",
       "      <th>3</th>\n",
       "      <td>6a3d-6b736346-6a3d-4085-934b-396834</td>\n",
       "      <td>0</td>\n",
       "      <td>0</td>\n",
       "      <td>0</td>\n",
       "      <td>0</td>\n",
       "      <td>0</td>\n",
       "      <td>0</td>\n",
       "      <td>0</td>\n",
       "      <td>0</td>\n",
       "      <td>0</td>\n",
       "      <td>...</td>\n",
       "      <td>0</td>\n",
       "      <td>0</td>\n",
       "      <td>0</td>\n",
       "      <td>0</td>\n",
       "      <td>1</td>\n",
       "      <td>0</td>\n",
       "      <td>0</td>\n",
       "      <td>1</td>\n",
       "      <td>1</td>\n",
       "      <td>0</td>\n",
       "    </tr>\n",
       "    <tr>\n",
       "      <th>4</th>\n",
       "      <td>b74a-6b737717-b74a-45c3-8c6a-421140</td>\n",
       "      <td>0</td>\n",
       "      <td>1</td>\n",
       "      <td>0</td>\n",
       "      <td>1</td>\n",
       "      <td>0</td>\n",
       "      <td>0</td>\n",
       "      <td>0</td>\n",
       "      <td>0</td>\n",
       "      <td>1</td>\n",
       "      <td>...</td>\n",
       "      <td>0</td>\n",
       "      <td>0</td>\n",
       "      <td>0</td>\n",
       "      <td>1</td>\n",
       "      <td>0</td>\n",
       "      <td>0</td>\n",
       "      <td>1</td>\n",
       "      <td>0</td>\n",
       "      <td>1</td>\n",
       "      <td>1</td>\n",
       "    </tr>\n",
       "    <tr>\n",
       "      <th>...</th>\n",
       "      <td>...</td>\n",
       "      <td>...</td>\n",
       "      <td>...</td>\n",
       "      <td>...</td>\n",
       "      <td>...</td>\n",
       "      <td>...</td>\n",
       "      <td>...</td>\n",
       "      <td>...</td>\n",
       "      <td>...</td>\n",
       "      <td>...</td>\n",
       "      <td>...</td>\n",
       "      <td>...</td>\n",
       "      <td>...</td>\n",
       "      <td>...</td>\n",
       "      <td>...</td>\n",
       "      <td>...</td>\n",
       "      <td>...</td>\n",
       "      <td>...</td>\n",
       "      <td>...</td>\n",
       "      <td>...</td>\n",
       "      <td>...</td>\n",
       "    </tr>\n",
       "    <tr>\n",
       "      <th>455396</th>\n",
       "      <td>5624-06d73a79-5624-450a-acdd-367154</td>\n",
       "      <td>0</td>\n",
       "      <td>0</td>\n",
       "      <td>0</td>\n",
       "      <td>0</td>\n",
       "      <td>0</td>\n",
       "      <td>0</td>\n",
       "      <td>0</td>\n",
       "      <td>0</td>\n",
       "      <td>0</td>\n",
       "      <td>...</td>\n",
       "      <td>0</td>\n",
       "      <td>0</td>\n",
       "      <td>0</td>\n",
       "      <td>1</td>\n",
       "      <td>1</td>\n",
       "      <td>0</td>\n",
       "      <td>0</td>\n",
       "      <td>0</td>\n",
       "      <td>1</td>\n",
       "      <td>0</td>\n",
       "    </tr>\n",
       "    <tr>\n",
       "      <th>455397</th>\n",
       "      <td>42a3-06d74c74-42a3-4dc9-b874-727916</td>\n",
       "      <td>0</td>\n",
       "      <td>0</td>\n",
       "      <td>0</td>\n",
       "      <td>0</td>\n",
       "      <td>0</td>\n",
       "      <td>0</td>\n",
       "      <td>0</td>\n",
       "      <td>0</td>\n",
       "      <td>0</td>\n",
       "      <td>...</td>\n",
       "      <td>0</td>\n",
       "      <td>0</td>\n",
       "      <td>0</td>\n",
       "      <td>0</td>\n",
       "      <td>1</td>\n",
       "      <td>0</td>\n",
       "      <td>0</td>\n",
       "      <td>0</td>\n",
       "      <td>1</td>\n",
       "      <td>0</td>\n",
       "    </tr>\n",
       "    <tr>\n",
       "      <th>455398</th>\n",
       "      <td>104a-06d7a875-104a-428d-b2b8-358312</td>\n",
       "      <td>0</td>\n",
       "      <td>0</td>\n",
       "      <td>0</td>\n",
       "      <td>0</td>\n",
       "      <td>0</td>\n",
       "      <td>0</td>\n",
       "      <td>0</td>\n",
       "      <td>0</td>\n",
       "      <td>0</td>\n",
       "      <td>...</td>\n",
       "      <td>0</td>\n",
       "      <td>0</td>\n",
       "      <td>0</td>\n",
       "      <td>1</td>\n",
       "      <td>1</td>\n",
       "      <td>0</td>\n",
       "      <td>0</td>\n",
       "      <td>0</td>\n",
       "      <td>1</td>\n",
       "      <td>0</td>\n",
       "    </tr>\n",
       "    <tr>\n",
       "      <th>455399</th>\n",
       "      <td>d9b1-06d7a928-d9b1-40d9-a2d6-32624</td>\n",
       "      <td>0</td>\n",
       "      <td>0</td>\n",
       "      <td>0</td>\n",
       "      <td>0</td>\n",
       "      <td>0</td>\n",
       "      <td>0</td>\n",
       "      <td>0</td>\n",
       "      <td>0</td>\n",
       "      <td>0</td>\n",
       "      <td>...</td>\n",
       "      <td>0</td>\n",
       "      <td>0</td>\n",
       "      <td>0</td>\n",
       "      <td>0</td>\n",
       "      <td>1</td>\n",
       "      <td>0</td>\n",
       "      <td>0</td>\n",
       "      <td>0</td>\n",
       "      <td>1</td>\n",
       "      <td>0</td>\n",
       "    </tr>\n",
       "    <tr>\n",
       "      <th>455400</th>\n",
       "      <td>7aav-06d7bd20-7aav-411b-bc9c-325055</td>\n",
       "      <td>1</td>\n",
       "      <td>1</td>\n",
       "      <td>1</td>\n",
       "      <td>0</td>\n",
       "      <td>0</td>\n",
       "      <td>0</td>\n",
       "      <td>0</td>\n",
       "      <td>0</td>\n",
       "      <td>1</td>\n",
       "      <td>...</td>\n",
       "      <td>0</td>\n",
       "      <td>0</td>\n",
       "      <td>0</td>\n",
       "      <td>1</td>\n",
       "      <td>1</td>\n",
       "      <td>0</td>\n",
       "      <td>0</td>\n",
       "      <td>0</td>\n",
       "      <td>1</td>\n",
       "      <td>0</td>\n",
       "    </tr>\n",
       "  </tbody>\n",
       "</table>\n",
       "<p>455401 rows × 25 columns</p>\n",
       "</div>"
      ],
      "text/plain": [
       "                                     UserID  basket_icon_click  \\\n",
       "0       a720-6b732349-a720-4862-bd21-644732                  0   \n",
       "1       a0c0-6b73247c-a0c0-4bd9-8baa-797356                  0   \n",
       "2       86a8-6b735c67-86a8-407b-ba24-333055                  0   \n",
       "3       6a3d-6b736346-6a3d-4085-934b-396834                  0   \n",
       "4       b74a-6b737717-b74a-45c3-8c6a-421140                  0   \n",
       "...                                     ...                ...   \n",
       "455396  5624-06d73a79-5624-450a-acdd-367154                  0   \n",
       "455397  42a3-06d74c74-42a3-4dc9-b874-727916                  0   \n",
       "455398  104a-06d7a875-104a-428d-b2b8-358312                  0   \n",
       "455399   d9b1-06d7a928-d9b1-40d9-a2d6-32624                  0   \n",
       "455400  7aav-06d7bd20-7aav-411b-bc9c-325055                  1   \n",
       "\n",
       "        basket_add_list  basket_add_detail  sort_by  image_picker  \\\n",
       "0                     0                  0        0             0   \n",
       "1                     0                  0        0             0   \n",
       "2                     0                  0        0             0   \n",
       "3                     0                  0        0             0   \n",
       "4                     1                  0        1             0   \n",
       "...                 ...                ...      ...           ...   \n",
       "455396                0                  0        0             0   \n",
       "455397                0                  0        0             0   \n",
       "455398                0                  0        0             0   \n",
       "455399                0                  0        0             0   \n",
       "455400                1                  1        0             0   \n",
       "\n",
       "        account_page_click  promo_banner_click  detail_wishlist_add  \\\n",
       "0                        0                   0                    0   \n",
       "1                        0                   0                    0   \n",
       "2                        0                   0                    0   \n",
       "3                        0                   0                    0   \n",
       "4                        0                   0                    0   \n",
       "...                    ...                 ...                  ...   \n",
       "455396                   0                   0                    0   \n",
       "455397                   0                   0                    0   \n",
       "455398                   0                   0                    0   \n",
       "455399                   0                   0                    0   \n",
       "455400                   0                   0                    0   \n",
       "\n",
       "        list_size_dropdown  ...  saw_sizecharts  saw_delivery  \\\n",
       "0                        0  ...               0             0   \n",
       "1                        0  ...               0             0   \n",
       "2                        0  ...               0             0   \n",
       "3                        0  ...               0             0   \n",
       "4                        1  ...               0             0   \n",
       "...                    ...  ...             ...           ...   \n",
       "455396                   0  ...               0             0   \n",
       "455397                   0  ...               0             0   \n",
       "455398                   0  ...               0             0   \n",
       "455399                   0  ...               0             0   \n",
       "455400                   1  ...               0             0   \n",
       "\n",
       "        saw_account_upgrade  saw_homepage  device_mobile  device_computer  \\\n",
       "0                         0             0              1                0   \n",
       "1                         0             0              1                0   \n",
       "2                         0             0              1                0   \n",
       "3                         0             0              1                0   \n",
       "4                         0             1              0                0   \n",
       "...                     ...           ...            ...              ...   \n",
       "455396                    0             1              1                0   \n",
       "455397                    0             0              1                0   \n",
       "455398                    0             1              1                0   \n",
       "455399                    0             0              1                0   \n",
       "455400                    0             1              1                0   \n",
       "\n",
       "        device_tablet  returning_user  loc_uk  ordered  \n",
       "0                   0               0       1        0  \n",
       "1                   0               0       1        0  \n",
       "2                   0               1       1        0  \n",
       "3                   0               1       1        0  \n",
       "4                   1               0       1        1  \n",
       "...               ...             ...     ...      ...  \n",
       "455396              0               0       1        0  \n",
       "455397              0               0       1        0  \n",
       "455398              0               0       1        0  \n",
       "455399              0               0       1        0  \n",
       "455400              0               0       1        0  \n",
       "\n",
       "[455401 rows x 25 columns]"
      ]
     },
     "execution_count": 3,
     "metadata": {},
     "output_type": "execute_result"
    }
   ],
   "source": [
    "df_train = pd.read_csv('../data/raw/dataset_train.csv')\n",
    "\n",
    "df_train"
   ]
  },
  {
   "cell_type": "code",
   "execution_count": 5,
   "metadata": {
    "colab": {
     "base_uri": "https://localhost:8080/",
     "height": 1000
    },
    "executionInfo": {
     "elapsed": 2572,
     "status": "ok",
     "timestamp": 1636770393549,
     "user": {
      "displayName": "Tammy Gusmão",
      "photoUrl": "https://lh3.googleusercontent.com/a/default-user=s64",
      "userId": "03220826031629281663"
     },
     "user_tz": 240
    },
    "id": "wGz_teFt1675",
    "outputId": "fe8abb75-638d-4a20-c488-9796d394c390"
   },
   "outputs": [
    {
     "data": {
      "text/html": [
       "<div>\n",
       "<style scoped>\n",
       "    .dataframe tbody tr th:only-of-type {\n",
       "        vertical-align: middle;\n",
       "    }\n",
       "\n",
       "    .dataframe tbody tr th {\n",
       "        vertical-align: top;\n",
       "    }\n",
       "\n",
       "    .dataframe thead th {\n",
       "        text-align: right;\n",
       "    }\n",
       "</style>\n",
       "<table border=\"1\" class=\"dataframe\">\n",
       "  <thead>\n",
       "    <tr style=\"text-align: right;\">\n",
       "      <th></th>\n",
       "      <th>UserID</th>\n",
       "      <th>basket_icon_click</th>\n",
       "      <th>basket_add_list</th>\n",
       "      <th>basket_add_detail</th>\n",
       "      <th>sort_by</th>\n",
       "      <th>image_picker</th>\n",
       "      <th>account_page_click</th>\n",
       "      <th>promo_banner_click</th>\n",
       "      <th>detail_wishlist_add</th>\n",
       "      <th>list_size_dropdown</th>\n",
       "      <th>...</th>\n",
       "      <th>saw_sizecharts</th>\n",
       "      <th>saw_delivery</th>\n",
       "      <th>saw_account_upgrade</th>\n",
       "      <th>saw_homepage</th>\n",
       "      <th>device_mobile</th>\n",
       "      <th>device_computer</th>\n",
       "      <th>device_tablet</th>\n",
       "      <th>returning_user</th>\n",
       "      <th>loc_uk</th>\n",
       "      <th>ordered</th>\n",
       "    </tr>\n",
       "  </thead>\n",
       "  <tbody>\n",
       "    <tr>\n",
       "      <th>0</th>\n",
       "      <td>9d24-25k4-47889d24-25k4-494b-398124</td>\n",
       "      <td>0</td>\n",
       "      <td>0</td>\n",
       "      <td>0</td>\n",
       "      <td>0</td>\n",
       "      <td>0</td>\n",
       "      <td>0</td>\n",
       "      <td>0</td>\n",
       "      <td>0</td>\n",
       "      <td>0</td>\n",
       "      <td>...</td>\n",
       "      <td>0</td>\n",
       "      <td>0</td>\n",
       "      <td>0</td>\n",
       "      <td>0</td>\n",
       "      <td>1</td>\n",
       "      <td>0</td>\n",
       "      <td>0</td>\n",
       "      <td>0</td>\n",
       "      <td>1</td>\n",
       "      <td>0</td>\n",
       "    </tr>\n",
       "    <tr>\n",
       "      <th>1</th>\n",
       "      <td>7732-1k58-47887732-1k58-4475-679678</td>\n",
       "      <td>0</td>\n",
       "      <td>0</td>\n",
       "      <td>0</td>\n",
       "      <td>0</td>\n",
       "      <td>0</td>\n",
       "      <td>0</td>\n",
       "      <td>0</td>\n",
       "      <td>0</td>\n",
       "      <td>0</td>\n",
       "      <td>...</td>\n",
       "      <td>0</td>\n",
       "      <td>0</td>\n",
       "      <td>0</td>\n",
       "      <td>0</td>\n",
       "      <td>1</td>\n",
       "      <td>0</td>\n",
       "      <td>0</td>\n",
       "      <td>0</td>\n",
       "      <td>1</td>\n",
       "      <td>0</td>\n",
       "    </tr>\n",
       "    <tr>\n",
       "      <th>2</th>\n",
       "      <td>94k2-632j-471394k2-632j-4b4j-228160</td>\n",
       "      <td>0</td>\n",
       "      <td>0</td>\n",
       "      <td>0</td>\n",
       "      <td>0</td>\n",
       "      <td>0</td>\n",
       "      <td>0</td>\n",
       "      <td>0</td>\n",
       "      <td>0</td>\n",
       "      <td>0</td>\n",
       "      <td>...</td>\n",
       "      <td>0</td>\n",
       "      <td>0</td>\n",
       "      <td>0</td>\n",
       "      <td>0</td>\n",
       "      <td>1</td>\n",
       "      <td>0</td>\n",
       "      <td>0</td>\n",
       "      <td>0</td>\n",
       "      <td>1</td>\n",
       "      <td>0</td>\n",
       "    </tr>\n",
       "    <tr>\n",
       "      <th>3</th>\n",
       "      <td>jdd8-419d-4714jdd8-419d-4198-674376</td>\n",
       "      <td>0</td>\n",
       "      <td>0</td>\n",
       "      <td>1</td>\n",
       "      <td>0</td>\n",
       "      <td>0</td>\n",
       "      <td>0</td>\n",
       "      <td>0</td>\n",
       "      <td>0</td>\n",
       "      <td>0</td>\n",
       "      <td>...</td>\n",
       "      <td>0</td>\n",
       "      <td>0</td>\n",
       "      <td>0</td>\n",
       "      <td>0</td>\n",
       "      <td>1</td>\n",
       "      <td>0</td>\n",
       "      <td>0</td>\n",
       "      <td>0</td>\n",
       "      <td>1</td>\n",
       "      <td>0</td>\n",
       "    </tr>\n",
       "    <tr>\n",
       "      <th>4</th>\n",
       "      <td>7473-7595-47147473-7595-4757-227547</td>\n",
       "      <td>0</td>\n",
       "      <td>0</td>\n",
       "      <td>0</td>\n",
       "      <td>0</td>\n",
       "      <td>0</td>\n",
       "      <td>0</td>\n",
       "      <td>0</td>\n",
       "      <td>0</td>\n",
       "      <td>0</td>\n",
       "      <td>...</td>\n",
       "      <td>0</td>\n",
       "      <td>0</td>\n",
       "      <td>0</td>\n",
       "      <td>0</td>\n",
       "      <td>1</td>\n",
       "      <td>0</td>\n",
       "      <td>0</td>\n",
       "      <td>0</td>\n",
       "      <td>1</td>\n",
       "      <td>0</td>\n",
       "    </tr>\n",
       "    <tr>\n",
       "      <th>...</th>\n",
       "      <td>...</td>\n",
       "      <td>...</td>\n",
       "      <td>...</td>\n",
       "      <td>...</td>\n",
       "      <td>...</td>\n",
       "      <td>...</td>\n",
       "      <td>...</td>\n",
       "      <td>...</td>\n",
       "      <td>...</td>\n",
       "      <td>...</td>\n",
       "      <td>...</td>\n",
       "      <td>...</td>\n",
       "      <td>...</td>\n",
       "      <td>...</td>\n",
       "      <td>...</td>\n",
       "      <td>...</td>\n",
       "      <td>...</td>\n",
       "      <td>...</td>\n",
       "      <td>...</td>\n",
       "      <td>...</td>\n",
       "      <td>...</td>\n",
       "    </tr>\n",
       "    <tr>\n",
       "      <th>151650</th>\n",
       "      <td>d14b-520k-0j15d14b-520k-4kk2-660471</td>\n",
       "      <td>0</td>\n",
       "      <td>0</td>\n",
       "      <td>0</td>\n",
       "      <td>0</td>\n",
       "      <td>0</td>\n",
       "      <td>0</td>\n",
       "      <td>0</td>\n",
       "      <td>0</td>\n",
       "      <td>0</td>\n",
       "      <td>...</td>\n",
       "      <td>0</td>\n",
       "      <td>0</td>\n",
       "      <td>0</td>\n",
       "      <td>1</td>\n",
       "      <td>1</td>\n",
       "      <td>0</td>\n",
       "      <td>0</td>\n",
       "      <td>1</td>\n",
       "      <td>1</td>\n",
       "      <td>0</td>\n",
       "    </tr>\n",
       "    <tr>\n",
       "      <th>151651</th>\n",
       "      <td>d427-5450-0j15d427-5450-4661-370635</td>\n",
       "      <td>0</td>\n",
       "      <td>0</td>\n",
       "      <td>0</td>\n",
       "      <td>0</td>\n",
       "      <td>0</td>\n",
       "      <td>0</td>\n",
       "      <td>0</td>\n",
       "      <td>0</td>\n",
       "      <td>0</td>\n",
       "      <td>...</td>\n",
       "      <td>0</td>\n",
       "      <td>0</td>\n",
       "      <td>0</td>\n",
       "      <td>0</td>\n",
       "      <td>1</td>\n",
       "      <td>0</td>\n",
       "      <td>0</td>\n",
       "      <td>1</td>\n",
       "      <td>0</td>\n",
       "      <td>0</td>\n",
       "    </tr>\n",
       "    <tr>\n",
       "      <th>151652</th>\n",
       "      <td>8869-1022-0j168869-1022-4490-699568</td>\n",
       "      <td>0</td>\n",
       "      <td>0</td>\n",
       "      <td>0</td>\n",
       "      <td>0</td>\n",
       "      <td>0</td>\n",
       "      <td>0</td>\n",
       "      <td>0</td>\n",
       "      <td>0</td>\n",
       "      <td>0</td>\n",
       "      <td>...</td>\n",
       "      <td>0</td>\n",
       "      <td>0</td>\n",
       "      <td>0</td>\n",
       "      <td>0</td>\n",
       "      <td>1</td>\n",
       "      <td>0</td>\n",
       "      <td>0</td>\n",
       "      <td>1</td>\n",
       "      <td>1</td>\n",
       "      <td>0</td>\n",
       "    </tr>\n",
       "    <tr>\n",
       "      <th>151653</th>\n",
       "      <td>5893-2228-0j165893-2228-4kb7-871348</td>\n",
       "      <td>0</td>\n",
       "      <td>0</td>\n",
       "      <td>0</td>\n",
       "      <td>0</td>\n",
       "      <td>0</td>\n",
       "      <td>0</td>\n",
       "      <td>0</td>\n",
       "      <td>0</td>\n",
       "      <td>0</td>\n",
       "      <td>...</td>\n",
       "      <td>0</td>\n",
       "      <td>0</td>\n",
       "      <td>0</td>\n",
       "      <td>0</td>\n",
       "      <td>1</td>\n",
       "      <td>0</td>\n",
       "      <td>0</td>\n",
       "      <td>1</td>\n",
       "      <td>1</td>\n",
       "      <td>0</td>\n",
       "    </tr>\n",
       "    <tr>\n",
       "      <th>151654</th>\n",
       "      <td>64k0-8720-0j1664k0-8720-447k-692331</td>\n",
       "      <td>0</td>\n",
       "      <td>0</td>\n",
       "      <td>0</td>\n",
       "      <td>0</td>\n",
       "      <td>0</td>\n",
       "      <td>0</td>\n",
       "      <td>0</td>\n",
       "      <td>0</td>\n",
       "      <td>1</td>\n",
       "      <td>...</td>\n",
       "      <td>0</td>\n",
       "      <td>0</td>\n",
       "      <td>0</td>\n",
       "      <td>1</td>\n",
       "      <td>0</td>\n",
       "      <td>0</td>\n",
       "      <td>1</td>\n",
       "      <td>0</td>\n",
       "      <td>1</td>\n",
       "      <td>0</td>\n",
       "    </tr>\n",
       "  </tbody>\n",
       "</table>\n",
       "<p>151655 rows × 25 columns</p>\n",
       "</div>"
      ],
      "text/plain": [
       "                                     UserID  basket_icon_click  \\\n",
       "0       9d24-25k4-47889d24-25k4-494b-398124                  0   \n",
       "1       7732-1k58-47887732-1k58-4475-679678                  0   \n",
       "2       94k2-632j-471394k2-632j-4b4j-228160                  0   \n",
       "3       jdd8-419d-4714jdd8-419d-4198-674376                  0   \n",
       "4       7473-7595-47147473-7595-4757-227547                  0   \n",
       "...                                     ...                ...   \n",
       "151650  d14b-520k-0j15d14b-520k-4kk2-660471                  0   \n",
       "151651  d427-5450-0j15d427-5450-4661-370635                  0   \n",
       "151652  8869-1022-0j168869-1022-4490-699568                  0   \n",
       "151653  5893-2228-0j165893-2228-4kb7-871348                  0   \n",
       "151654  64k0-8720-0j1664k0-8720-447k-692331                  0   \n",
       "\n",
       "        basket_add_list  basket_add_detail  sort_by  image_picker  \\\n",
       "0                     0                  0        0             0   \n",
       "1                     0                  0        0             0   \n",
       "2                     0                  0        0             0   \n",
       "3                     0                  1        0             0   \n",
       "4                     0                  0        0             0   \n",
       "...                 ...                ...      ...           ...   \n",
       "151650                0                  0        0             0   \n",
       "151651                0                  0        0             0   \n",
       "151652                0                  0        0             0   \n",
       "151653                0                  0        0             0   \n",
       "151654                0                  0        0             0   \n",
       "\n",
       "        account_page_click  promo_banner_click  detail_wishlist_add  \\\n",
       "0                        0                   0                    0   \n",
       "1                        0                   0                    0   \n",
       "2                        0                   0                    0   \n",
       "3                        0                   0                    0   \n",
       "4                        0                   0                    0   \n",
       "...                    ...                 ...                  ...   \n",
       "151650                   0                   0                    0   \n",
       "151651                   0                   0                    0   \n",
       "151652                   0                   0                    0   \n",
       "151653                   0                   0                    0   \n",
       "151654                   0                   0                    0   \n",
       "\n",
       "        list_size_dropdown  ...  saw_sizecharts  saw_delivery  \\\n",
       "0                        0  ...               0             0   \n",
       "1                        0  ...               0             0   \n",
       "2                        0  ...               0             0   \n",
       "3                        0  ...               0             0   \n",
       "4                        0  ...               0             0   \n",
       "...                    ...  ...             ...           ...   \n",
       "151650                   0  ...               0             0   \n",
       "151651                   0  ...               0             0   \n",
       "151652                   0  ...               0             0   \n",
       "151653                   0  ...               0             0   \n",
       "151654                   1  ...               0             0   \n",
       "\n",
       "        saw_account_upgrade  saw_homepage  device_mobile  device_computer  \\\n",
       "0                         0             0              1                0   \n",
       "1                         0             0              1                0   \n",
       "2                         0             0              1                0   \n",
       "3                         0             0              1                0   \n",
       "4                         0             0              1                0   \n",
       "...                     ...           ...            ...              ...   \n",
       "151650                    0             1              1                0   \n",
       "151651                    0             0              1                0   \n",
       "151652                    0             0              1                0   \n",
       "151653                    0             0              1                0   \n",
       "151654                    0             1              0                0   \n",
       "\n",
       "        device_tablet  returning_user  loc_uk  ordered  \n",
       "0                   0               0       1        0  \n",
       "1                   0               0       1        0  \n",
       "2                   0               0       1        0  \n",
       "3                   0               0       1        0  \n",
       "4                   0               0       1        0  \n",
       "...               ...             ...     ...      ...  \n",
       "151650              0               1       1        0  \n",
       "151651              0               1       0        0  \n",
       "151652              0               1       1        0  \n",
       "151653              0               1       1        0  \n",
       "151654              1               0       1        0  \n",
       "\n",
       "[151655 rows x 25 columns]"
      ]
     },
     "execution_count": 5,
     "metadata": {},
     "output_type": "execute_result"
    }
   ],
   "source": [
    "df_test = pd.read_csv('../data/raw/dataset_test.csv')\n",
    "\n",
    "df_test"
   ]
  },
  {
   "cell_type": "markdown",
   "metadata": {
    "id": "957gBhzyzfC6"
   },
   "source": [
    "##Explorando o Dataset"
   ]
  },
  {
   "cell_type": "markdown",
   "metadata": {
    "id": "TmWNX4X7SqcL"
   },
   "source": [
    "Esta seção busca verificar, em ambos os dataframes, os tipos de dados presentes, a presença de valores faltantes (NaNs), presença de registros duplicados, uma breve análise descritiva e a identificação e contagem das classes de cada *feature*."
   ]
  },
  {
   "cell_type": "markdown",
   "metadata": {
    "id": "o0gzyD0i3If3"
   },
   "source": [
    "###Dados de Treino"
   ]
  },
  {
   "cell_type": "markdown",
   "metadata": {
    "id": "OMEOHBe_6ZFO"
   },
   "source": [
    "####Linhas x Colunas"
   ]
  },
  {
   "cell_type": "code",
   "execution_count": 6,
   "metadata": {
    "colab": {
     "base_uri": "https://localhost:8080/"
    },
    "executionInfo": {
     "elapsed": 2,
     "status": "ok",
     "timestamp": 1636770397053,
     "user": {
      "displayName": "Tammy Gusmão",
      "photoUrl": "https://lh3.googleusercontent.com/a/default-user=s64",
      "userId": "03220826031629281663"
     },
     "user_tz": 240
    },
    "id": "ca6QgCx86bs3",
    "outputId": "15245574-a453-414a-dd98-549a432f25ae"
   },
   "outputs": [
    {
     "data": {
      "text/plain": [
       "(455401, 25)"
      ]
     },
     "execution_count": 6,
     "metadata": {},
     "output_type": "execute_result"
    }
   ],
   "source": [
    "df_train.shape"
   ]
  },
  {
   "cell_type": "markdown",
   "metadata": {
    "id": "j_pII_BC3tjZ"
   },
   "source": [
    "####Tipos de Dados x Contagem de NaNs"
   ]
  },
  {
   "cell_type": "code",
   "execution_count": 7,
   "metadata": {
    "colab": {
     "base_uri": "https://localhost:8080/"
    },
    "executionInfo": {
     "elapsed": 444,
     "status": "ok",
     "timestamp": 1636770399303,
     "user": {
      "displayName": "Tammy Gusmão",
      "photoUrl": "https://lh3.googleusercontent.com/a/default-user=s64",
      "userId": "03220826031629281663"
     },
     "user_tz": 240
    },
    "id": "xRFNi8RR2NpZ",
    "outputId": "a36191e6-7345-4e2a-c53f-a7d31529539d"
   },
   "outputs": [
    {
     "name": "stdout",
     "output_type": "stream",
     "text": [
      "<class 'pandas.core.frame.DataFrame'>\n",
      "RangeIndex: 455401 entries, 0 to 455400\n",
      "Data columns (total 25 columns):\n",
      " #   Column                   Non-Null Count   Dtype \n",
      "---  ------                   --------------   ----- \n",
      " 0   UserID                   455401 non-null  object\n",
      " 1   basket_icon_click        455401 non-null  int64 \n",
      " 2   basket_add_list          455401 non-null  int64 \n",
      " 3   basket_add_detail        455401 non-null  int64 \n",
      " 4   sort_by                  455401 non-null  int64 \n",
      " 5   image_picker             455401 non-null  int64 \n",
      " 6   account_page_click       455401 non-null  int64 \n",
      " 7   promo_banner_click       455401 non-null  int64 \n",
      " 8   detail_wishlist_add      455401 non-null  int64 \n",
      " 9   list_size_dropdown       455401 non-null  int64 \n",
      " 10  closed_minibasket_click  455401 non-null  int64 \n",
      " 11  checked_delivery_detail  455401 non-null  int64 \n",
      " 12  checked_returns_detail   455401 non-null  int64 \n",
      " 13  sign_in                  455401 non-null  int64 \n",
      " 14  saw_checkout             455401 non-null  int64 \n",
      " 15  saw_sizecharts           455401 non-null  int64 \n",
      " 16  saw_delivery             455401 non-null  int64 \n",
      " 17  saw_account_upgrade      455401 non-null  int64 \n",
      " 18  saw_homepage             455401 non-null  int64 \n",
      " 19  device_mobile            455401 non-null  int64 \n",
      " 20  device_computer          455401 non-null  int64 \n",
      " 21  device_tablet            455401 non-null  int64 \n",
      " 22  returning_user           455401 non-null  int64 \n",
      " 23  loc_uk                   455401 non-null  int64 \n",
      " 24  ordered                  455401 non-null  int64 \n",
      "dtypes: int64(24), object(1)\n",
      "memory usage: 86.9+ MB\n"
     ]
    }
   ],
   "source": [
    "df_train.info()"
   ]
  },
  {
   "cell_type": "markdown",
   "metadata": {
    "id": "6rDEJg0P37yy"
   },
   "source": [
    "####Contagem de Duplicados"
   ]
  },
  {
   "cell_type": "code",
   "execution_count": 8,
   "metadata": {
    "colab": {
     "base_uri": "https://localhost:8080/"
    },
    "executionInfo": {
     "elapsed": 439,
     "status": "ok",
     "timestamp": 1636770399740,
     "user": {
      "displayName": "Tammy Gusmão",
      "photoUrl": "https://lh3.googleusercontent.com/a/default-user=s64",
      "userId": "03220826031629281663"
     },
     "user_tz": 240
    },
    "id": "zYQXKK8Z4Bn4",
    "outputId": "13f79c90-d8c2-40d1-ddb4-b16ffd2da409"
   },
   "outputs": [
    {
     "name": "stdout",
     "output_type": "stream",
     "text": [
      "Quantia de duplicatas: 0\n"
     ]
    }
   ],
   "source": [
    "duplicados_train = df_train[df_train.duplicated(keep='first')]\n",
    "print(\"Quantia de duplicatas:\", duplicados_train.shape[0])"
   ]
  },
  {
   "cell_type": "markdown",
   "metadata": {
    "id": "BAgU923X4O3K"
   },
   "source": [
    "####Análise Descritiva"
   ]
  },
  {
   "cell_type": "code",
   "execution_count": 9,
   "metadata": {
    "colab": {
     "base_uri": "https://localhost:8080/",
     "height": 320
    },
    "executionInfo": {
     "elapsed": 323,
     "status": "ok",
     "timestamp": 1636770400059,
     "user": {
      "displayName": "Tammy Gusmão",
      "photoUrl": "https://lh3.googleusercontent.com/a/default-user=s64",
      "userId": "03220826031629281663"
     },
     "user_tz": 240
    },
    "id": "ZtmcHqVo2THL",
    "outputId": "e0944577-8a38-4e07-de94-2af2456a98c9"
   },
   "outputs": [
    {
     "data": {
      "text/html": [
       "<div>\n",
       "<style scoped>\n",
       "    .dataframe tbody tr th:only-of-type {\n",
       "        vertical-align: middle;\n",
       "    }\n",
       "\n",
       "    .dataframe tbody tr th {\n",
       "        vertical-align: top;\n",
       "    }\n",
       "\n",
       "    .dataframe thead th {\n",
       "        text-align: right;\n",
       "    }\n",
       "</style>\n",
       "<table border=\"1\" class=\"dataframe\">\n",
       "  <thead>\n",
       "    <tr style=\"text-align: right;\">\n",
       "      <th></th>\n",
       "      <th>basket_icon_click</th>\n",
       "      <th>basket_add_list</th>\n",
       "      <th>basket_add_detail</th>\n",
       "      <th>sort_by</th>\n",
       "      <th>image_picker</th>\n",
       "      <th>account_page_click</th>\n",
       "      <th>promo_banner_click</th>\n",
       "      <th>detail_wishlist_add</th>\n",
       "      <th>list_size_dropdown</th>\n",
       "      <th>closed_minibasket_click</th>\n",
       "      <th>...</th>\n",
       "      <th>saw_sizecharts</th>\n",
       "      <th>saw_delivery</th>\n",
       "      <th>saw_account_upgrade</th>\n",
       "      <th>saw_homepage</th>\n",
       "      <th>device_mobile</th>\n",
       "      <th>device_computer</th>\n",
       "      <th>device_tablet</th>\n",
       "      <th>returning_user</th>\n",
       "      <th>loc_uk</th>\n",
       "      <th>ordered</th>\n",
       "    </tr>\n",
       "  </thead>\n",
       "  <tbody>\n",
       "    <tr>\n",
       "      <th>count</th>\n",
       "      <td>455401.000000</td>\n",
       "      <td>455401.000000</td>\n",
       "      <td>455401.000000</td>\n",
       "      <td>455401.000000</td>\n",
       "      <td>455401.000000</td>\n",
       "      <td>455401.000000</td>\n",
       "      <td>455401.000000</td>\n",
       "      <td>455401.000000</td>\n",
       "      <td>455401.000000</td>\n",
       "      <td>455401.000000</td>\n",
       "      <td>...</td>\n",
       "      <td>455401.000000</td>\n",
       "      <td>455401.000000</td>\n",
       "      <td>455401.000000</td>\n",
       "      <td>455401.000000</td>\n",
       "      <td>455401.000000</td>\n",
       "      <td>455401.000000</td>\n",
       "      <td>455401.000000</td>\n",
       "      <td>455401.000000</td>\n",
       "      <td>455401.000000</td>\n",
       "      <td>455401.000000</td>\n",
       "    </tr>\n",
       "    <tr>\n",
       "      <th>mean</th>\n",
       "      <td>0.099150</td>\n",
       "      <td>0.074521</td>\n",
       "      <td>0.112916</td>\n",
       "      <td>0.036849</td>\n",
       "      <td>0.026735</td>\n",
       "      <td>0.003570</td>\n",
       "      <td>0.016208</td>\n",
       "      <td>0.003511</td>\n",
       "      <td>0.230362</td>\n",
       "      <td>0.017277</td>\n",
       "      <td>...</td>\n",
       "      <td>0.000389</td>\n",
       "      <td>0.005542</td>\n",
       "      <td>0.001096</td>\n",
       "      <td>0.290024</td>\n",
       "      <td>0.680706</td>\n",
       "      <td>0.194220</td>\n",
       "      <td>0.128364</td>\n",
       "      <td>0.534915</td>\n",
       "      <td>0.933224</td>\n",
       "      <td>0.041926</td>\n",
       "    </tr>\n",
       "    <tr>\n",
       "      <th>std</th>\n",
       "      <td>0.298864</td>\n",
       "      <td>0.262617</td>\n",
       "      <td>0.316490</td>\n",
       "      <td>0.188391</td>\n",
       "      <td>0.161307</td>\n",
       "      <td>0.059647</td>\n",
       "      <td>0.126274</td>\n",
       "      <td>0.059151</td>\n",
       "      <td>0.421065</td>\n",
       "      <td>0.130302</td>\n",
       "      <td>...</td>\n",
       "      <td>0.019711</td>\n",
       "      <td>0.074241</td>\n",
       "      <td>0.033084</td>\n",
       "      <td>0.453773</td>\n",
       "      <td>0.466204</td>\n",
       "      <td>0.395599</td>\n",
       "      <td>0.334495</td>\n",
       "      <td>0.498780</td>\n",
       "      <td>0.249634</td>\n",
       "      <td>0.200420</td>\n",
       "    </tr>\n",
       "    <tr>\n",
       "      <th>min</th>\n",
       "      <td>0.000000</td>\n",
       "      <td>0.000000</td>\n",
       "      <td>0.000000</td>\n",
       "      <td>0.000000</td>\n",
       "      <td>0.000000</td>\n",
       "      <td>0.000000</td>\n",
       "      <td>0.000000</td>\n",
       "      <td>0.000000</td>\n",
       "      <td>0.000000</td>\n",
       "      <td>0.000000</td>\n",
       "      <td>...</td>\n",
       "      <td>0.000000</td>\n",
       "      <td>0.000000</td>\n",
       "      <td>0.000000</td>\n",
       "      <td>0.000000</td>\n",
       "      <td>0.000000</td>\n",
       "      <td>0.000000</td>\n",
       "      <td>0.000000</td>\n",
       "      <td>0.000000</td>\n",
       "      <td>0.000000</td>\n",
       "      <td>0.000000</td>\n",
       "    </tr>\n",
       "    <tr>\n",
       "      <th>25%</th>\n",
       "      <td>0.000000</td>\n",
       "      <td>0.000000</td>\n",
       "      <td>0.000000</td>\n",
       "      <td>0.000000</td>\n",
       "      <td>0.000000</td>\n",
       "      <td>0.000000</td>\n",
       "      <td>0.000000</td>\n",
       "      <td>0.000000</td>\n",
       "      <td>0.000000</td>\n",
       "      <td>0.000000</td>\n",
       "      <td>...</td>\n",
       "      <td>0.000000</td>\n",
       "      <td>0.000000</td>\n",
       "      <td>0.000000</td>\n",
       "      <td>0.000000</td>\n",
       "      <td>0.000000</td>\n",
       "      <td>0.000000</td>\n",
       "      <td>0.000000</td>\n",
       "      <td>0.000000</td>\n",
       "      <td>1.000000</td>\n",
       "      <td>0.000000</td>\n",
       "    </tr>\n",
       "    <tr>\n",
       "      <th>50%</th>\n",
       "      <td>0.000000</td>\n",
       "      <td>0.000000</td>\n",
       "      <td>0.000000</td>\n",
       "      <td>0.000000</td>\n",
       "      <td>0.000000</td>\n",
       "      <td>0.000000</td>\n",
       "      <td>0.000000</td>\n",
       "      <td>0.000000</td>\n",
       "      <td>0.000000</td>\n",
       "      <td>0.000000</td>\n",
       "      <td>...</td>\n",
       "      <td>0.000000</td>\n",
       "      <td>0.000000</td>\n",
       "      <td>0.000000</td>\n",
       "      <td>0.000000</td>\n",
       "      <td>1.000000</td>\n",
       "      <td>0.000000</td>\n",
       "      <td>0.000000</td>\n",
       "      <td>1.000000</td>\n",
       "      <td>1.000000</td>\n",
       "      <td>0.000000</td>\n",
       "    </tr>\n",
       "    <tr>\n",
       "      <th>75%</th>\n",
       "      <td>0.000000</td>\n",
       "      <td>0.000000</td>\n",
       "      <td>0.000000</td>\n",
       "      <td>0.000000</td>\n",
       "      <td>0.000000</td>\n",
       "      <td>0.000000</td>\n",
       "      <td>0.000000</td>\n",
       "      <td>0.000000</td>\n",
       "      <td>0.000000</td>\n",
       "      <td>0.000000</td>\n",
       "      <td>...</td>\n",
       "      <td>0.000000</td>\n",
       "      <td>0.000000</td>\n",
       "      <td>0.000000</td>\n",
       "      <td>1.000000</td>\n",
       "      <td>1.000000</td>\n",
       "      <td>0.000000</td>\n",
       "      <td>0.000000</td>\n",
       "      <td>1.000000</td>\n",
       "      <td>1.000000</td>\n",
       "      <td>0.000000</td>\n",
       "    </tr>\n",
       "    <tr>\n",
       "      <th>max</th>\n",
       "      <td>1.000000</td>\n",
       "      <td>1.000000</td>\n",
       "      <td>1.000000</td>\n",
       "      <td>1.000000</td>\n",
       "      <td>1.000000</td>\n",
       "      <td>1.000000</td>\n",
       "      <td>1.000000</td>\n",
       "      <td>1.000000</td>\n",
       "      <td>1.000000</td>\n",
       "      <td>1.000000</td>\n",
       "      <td>...</td>\n",
       "      <td>1.000000</td>\n",
       "      <td>1.000000</td>\n",
       "      <td>1.000000</td>\n",
       "      <td>1.000000</td>\n",
       "      <td>1.000000</td>\n",
       "      <td>1.000000</td>\n",
       "      <td>1.000000</td>\n",
       "      <td>1.000000</td>\n",
       "      <td>1.000000</td>\n",
       "      <td>1.000000</td>\n",
       "    </tr>\n",
       "  </tbody>\n",
       "</table>\n",
       "<p>8 rows × 24 columns</p>\n",
       "</div>"
      ],
      "text/plain": [
       "       basket_icon_click  basket_add_list  basket_add_detail        sort_by  \\\n",
       "count      455401.000000    455401.000000      455401.000000  455401.000000   \n",
       "mean            0.099150         0.074521           0.112916       0.036849   \n",
       "std             0.298864         0.262617           0.316490       0.188391   \n",
       "min             0.000000         0.000000           0.000000       0.000000   \n",
       "25%             0.000000         0.000000           0.000000       0.000000   \n",
       "50%             0.000000         0.000000           0.000000       0.000000   \n",
       "75%             0.000000         0.000000           0.000000       0.000000   \n",
       "max             1.000000         1.000000           1.000000       1.000000   \n",
       "\n",
       "        image_picker  account_page_click  promo_banner_click  \\\n",
       "count  455401.000000       455401.000000       455401.000000   \n",
       "mean        0.026735            0.003570            0.016208   \n",
       "std         0.161307            0.059647            0.126274   \n",
       "min         0.000000            0.000000            0.000000   \n",
       "25%         0.000000            0.000000            0.000000   \n",
       "50%         0.000000            0.000000            0.000000   \n",
       "75%         0.000000            0.000000            0.000000   \n",
       "max         1.000000            1.000000            1.000000   \n",
       "\n",
       "       detail_wishlist_add  list_size_dropdown  closed_minibasket_click  ...  \\\n",
       "count        455401.000000       455401.000000            455401.000000  ...   \n",
       "mean              0.003511            0.230362                 0.017277  ...   \n",
       "std               0.059151            0.421065                 0.130302  ...   \n",
       "min               0.000000            0.000000                 0.000000  ...   \n",
       "25%               0.000000            0.000000                 0.000000  ...   \n",
       "50%               0.000000            0.000000                 0.000000  ...   \n",
       "75%               0.000000            0.000000                 0.000000  ...   \n",
       "max               1.000000            1.000000                 1.000000  ...   \n",
       "\n",
       "       saw_sizecharts   saw_delivery  saw_account_upgrade   saw_homepage  \\\n",
       "count   455401.000000  455401.000000        455401.000000  455401.000000   \n",
       "mean         0.000389       0.005542             0.001096       0.290024   \n",
       "std          0.019711       0.074241             0.033084       0.453773   \n",
       "min          0.000000       0.000000             0.000000       0.000000   \n",
       "25%          0.000000       0.000000             0.000000       0.000000   \n",
       "50%          0.000000       0.000000             0.000000       0.000000   \n",
       "75%          0.000000       0.000000             0.000000       1.000000   \n",
       "max          1.000000       1.000000             1.000000       1.000000   \n",
       "\n",
       "       device_mobile  device_computer  device_tablet  returning_user  \\\n",
       "count  455401.000000    455401.000000  455401.000000   455401.000000   \n",
       "mean        0.680706         0.194220       0.128364        0.534915   \n",
       "std         0.466204         0.395599       0.334495        0.498780   \n",
       "min         0.000000         0.000000       0.000000        0.000000   \n",
       "25%         0.000000         0.000000       0.000000        0.000000   \n",
       "50%         1.000000         0.000000       0.000000        1.000000   \n",
       "75%         1.000000         0.000000       0.000000        1.000000   \n",
       "max         1.000000         1.000000       1.000000        1.000000   \n",
       "\n",
       "              loc_uk        ordered  \n",
       "count  455401.000000  455401.000000  \n",
       "mean        0.933224       0.041926  \n",
       "std         0.249634       0.200420  \n",
       "min         0.000000       0.000000  \n",
       "25%         1.000000       0.000000  \n",
       "50%         1.000000       0.000000  \n",
       "75%         1.000000       0.000000  \n",
       "max         1.000000       1.000000  \n",
       "\n",
       "[8 rows x 24 columns]"
      ]
     },
     "execution_count": 9,
     "metadata": {},
     "output_type": "execute_result"
    }
   ],
   "source": [
    "df_train.describe()"
   ]
  },
  {
   "cell_type": "markdown",
   "metadata": {
    "id": "dRAvSWHj5V9d"
   },
   "source": [
    "####Cont. de Valores Únicos"
   ]
  },
  {
   "cell_type": "code",
   "execution_count": 10,
   "metadata": {
    "executionInfo": {
     "elapsed": 4,
     "status": "ok",
     "timestamp": 1636770400060,
     "user": {
      "displayName": "Tammy Gusmão",
      "photoUrl": "https://lh3.googleusercontent.com/a/default-user=s64",
      "userId": "03220826031629281663"
     },
     "user_tz": 240
    },
    "id": "Ms2Zb8yL5Y5J"
   },
   "outputs": [],
   "source": [
    "def count_individual_feattures(_df, _columns):\n",
    "    for var in _columns:\n",
    "        print(_df[var].value_counts(), '\\n')"
   ]
  },
  {
   "cell_type": "code",
   "execution_count": 11,
   "metadata": {
    "colab": {
     "base_uri": "https://localhost:8080/"
    },
    "executionInfo": {
     "elapsed": 805,
     "status": "ok",
     "timestamp": 1636770400861,
     "user": {
      "displayName": "Tammy Gusmão",
      "photoUrl": "https://lh3.googleusercontent.com/a/default-user=s64",
      "userId": "03220826031629281663"
     },
     "user_tz": 240
    },
    "id": "lgKtIOWY5mc4",
    "outputId": "f8cd7226-2ba0-45c6-e77e-eb78b0207b08"
   },
   "outputs": [
    {
     "name": "stdout",
     "output_type": "stream",
     "text": [
      "a720-6b732349-a720-4862-bd21-644732    1\n",
      "22d3-59b23c76-22d3-4074-a767-183814    1\n",
      "4c88-59b3d7a2-4c88-4c62-96b0-32243     1\n",
      "7739-59b3c969-7739-4c7a-80cd-94167     1\n",
      "0477-59b39376-0477-4b56-843d-931365    1\n",
      "                                      ..\n",
      "074a-ac239517-074a-46a4-ab7c-192772    1\n",
      "7819-ac2356dc-7819-4bb0-83aa-398482    1\n",
      "0418-ac235007-0418-4b0b-a8b4-96811     1\n",
      "8468-ac22c648-8468-b164-8707-727029    1\n",
      "7aav-06d7bd20-7aav-411b-bc9c-325055    1\n",
      "Name: UserID, Length: 455401, dtype: int64 \n",
      "\n",
      "0    410248\n",
      "1     45153\n",
      "Name: basket_icon_click, dtype: int64 \n",
      "\n",
      "0    421464\n",
      "1     33937\n",
      "Name: basket_add_list, dtype: int64 \n",
      "\n",
      "0    403979\n",
      "1     51422\n",
      "Name: basket_add_detail, dtype: int64 \n",
      "\n",
      "0    438620\n",
      "1     16781\n",
      "Name: sort_by, dtype: int64 \n",
      "\n",
      "0    443226\n",
      "1     12175\n",
      "Name: image_picker, dtype: int64 \n",
      "\n",
      "0    453775\n",
      "1      1626\n",
      "Name: account_page_click, dtype: int64 \n",
      "\n",
      "0    448020\n",
      "1      7381\n",
      "Name: promo_banner_click, dtype: int64 \n",
      "\n",
      "0    453802\n",
      "1      1599\n",
      "Name: detail_wishlist_add, dtype: int64 \n",
      "\n",
      "0    350494\n",
      "1    104907\n",
      "Name: list_size_dropdown, dtype: int64 \n",
      "\n",
      "0    447533\n",
      "1      7868\n",
      "Name: closed_minibasket_click, dtype: int64 \n",
      "\n",
      "0    426768\n",
      "1     28633\n",
      "Name: checked_delivery_detail, dtype: int64 \n",
      "\n",
      "0    451221\n",
      "1      4180\n",
      "Name: checked_returns_detail, dtype: int64 \n",
      "\n",
      "0    414957\n",
      "1     40444\n",
      "Name: sign_in, dtype: int64 \n",
      "\n",
      "0    418930\n",
      "1     36471\n",
      "Name: saw_checkout, dtype: int64 \n",
      "\n",
      "0    455224\n",
      "1       177\n",
      "Name: saw_sizecharts, dtype: int64 \n",
      "\n",
      "0    452877\n",
      "1      2524\n",
      "Name: saw_delivery, dtype: int64 \n",
      "\n",
      "0    454902\n",
      "1       499\n",
      "Name: saw_account_upgrade, dtype: int64 \n",
      "\n",
      "0    323324\n",
      "1    132077\n",
      "Name: saw_homepage, dtype: int64 \n",
      "\n",
      "1    309994\n",
      "0    145407\n",
      "Name: device_mobile, dtype: int64 \n",
      "\n",
      "0    366953\n",
      "1     88448\n",
      "Name: device_computer, dtype: int64 \n",
      "\n",
      "0    396944\n",
      "1     58457\n",
      "Name: device_tablet, dtype: int64 \n",
      "\n",
      "1    243601\n",
      "0    211800\n",
      "Name: returning_user, dtype: int64 \n",
      "\n",
      "1    424991\n",
      "0     30410\n",
      "Name: loc_uk, dtype: int64 \n",
      "\n",
      "0    436308\n",
      "1     19093\n",
      "Name: ordered, dtype: int64 \n",
      "\n"
     ]
    }
   ],
   "source": [
    "count_individual_feattures(df_train, df_train.columns.to_list()) "
   ]
  },
  {
   "cell_type": "markdown",
   "metadata": {
    "id": "P8mOo0TA3Rq1"
   },
   "source": [
    "###Dados de Teste"
   ]
  },
  {
   "cell_type": "markdown",
   "metadata": {
    "id": "rQEwHNCZ6iDU"
   },
   "source": [
    "####Linhas x Colunas"
   ]
  },
  {
   "cell_type": "code",
   "execution_count": 12,
   "metadata": {
    "colab": {
     "base_uri": "https://localhost:8080/"
    },
    "executionInfo": {
     "elapsed": 14,
     "status": "ok",
     "timestamp": 1636770400862,
     "user": {
      "displayName": "Tammy Gusmão",
      "photoUrl": "https://lh3.googleusercontent.com/a/default-user=s64",
      "userId": "03220826031629281663"
     },
     "user_tz": 240
    },
    "id": "DdGLAywX6j6m",
    "outputId": "d04df1d5-9199-4328-9316-58afa25266de"
   },
   "outputs": [
    {
     "data": {
      "text/plain": [
       "(151655, 25)"
      ]
     },
     "execution_count": 12,
     "metadata": {},
     "output_type": "execute_result"
    }
   ],
   "source": [
    "df_test.shape"
   ]
  },
  {
   "cell_type": "markdown",
   "metadata": {
    "id": "m88oXFzd4SbJ"
   },
   "source": [
    "####Tipos de Dados x Contagem de NaNs"
   ]
  },
  {
   "cell_type": "code",
   "execution_count": 13,
   "metadata": {
    "colab": {
     "base_uri": "https://localhost:8080/"
    },
    "executionInfo": {
     "elapsed": 12,
     "status": "ok",
     "timestamp": 1636770400863,
     "user": {
      "displayName": "Tammy Gusmão",
      "photoUrl": "https://lh3.googleusercontent.com/a/default-user=s64",
      "userId": "03220826031629281663"
     },
     "user_tz": 240
    },
    "id": "it8QEhJ41sXb",
    "outputId": "aefbdc17-5f77-4b74-805b-f74bbcb31a3b"
   },
   "outputs": [
    {
     "name": "stdout",
     "output_type": "stream",
     "text": [
      "<class 'pandas.core.frame.DataFrame'>\n",
      "RangeIndex: 151655 entries, 0 to 151654\n",
      "Data columns (total 25 columns):\n",
      " #   Column                   Non-Null Count   Dtype \n",
      "---  ------                   --------------   ----- \n",
      " 0   UserID                   151655 non-null  object\n",
      " 1   basket_icon_click        151655 non-null  int64 \n",
      " 2   basket_add_list          151655 non-null  int64 \n",
      " 3   basket_add_detail        151655 non-null  int64 \n",
      " 4   sort_by                  151655 non-null  int64 \n",
      " 5   image_picker             151655 non-null  int64 \n",
      " 6   account_page_click       151655 non-null  int64 \n",
      " 7   promo_banner_click       151655 non-null  int64 \n",
      " 8   detail_wishlist_add      151655 non-null  int64 \n",
      " 9   list_size_dropdown       151655 non-null  int64 \n",
      " 10  closed_minibasket_click  151655 non-null  int64 \n",
      " 11  checked_delivery_detail  151655 non-null  int64 \n",
      " 12  checked_returns_detail   151655 non-null  int64 \n",
      " 13  sign_in                  151655 non-null  int64 \n",
      " 14  saw_checkout             151655 non-null  int64 \n",
      " 15  saw_sizecharts           151655 non-null  int64 \n",
      " 16  saw_delivery             151655 non-null  int64 \n",
      " 17  saw_account_upgrade      151655 non-null  int64 \n",
      " 18  saw_homepage             151655 non-null  int64 \n",
      " 19  device_mobile            151655 non-null  int64 \n",
      " 20  device_computer          151655 non-null  int64 \n",
      " 21  device_tablet            151655 non-null  int64 \n",
      " 22  returning_user           151655 non-null  int64 \n",
      " 23  loc_uk                   151655 non-null  int64 \n",
      " 24  ordered                  151655 non-null  int64 \n",
      "dtypes: int64(24), object(1)\n",
      "memory usage: 28.9+ MB\n"
     ]
    }
   ],
   "source": [
    "df_test.info()"
   ]
  },
  {
   "cell_type": "markdown",
   "metadata": {
    "id": "1-BJtGxI4cfx"
   },
   "source": [
    "####Contagem de Duplicados"
   ]
  },
  {
   "cell_type": "code",
   "execution_count": 14,
   "metadata": {
    "colab": {
     "base_uri": "https://localhost:8080/"
    },
    "executionInfo": {
     "elapsed": 9,
     "status": "ok",
     "timestamp": 1636770400863,
     "user": {
      "displayName": "Tammy Gusmão",
      "photoUrl": "https://lh3.googleusercontent.com/a/default-user=s64",
      "userId": "03220826031629281663"
     },
     "user_tz": 240
    },
    "id": "LLFcXJyv4pzl",
    "outputId": "0e769696-6469-42ca-9933-512457f9adfc"
   },
   "outputs": [
    {
     "name": "stdout",
     "output_type": "stream",
     "text": [
      "Quantia de duplicatas: 0\n"
     ]
    }
   ],
   "source": [
    "duplicados_test = df_test[df_test.duplicated(keep='first')]\n",
    "print(\"Quantia de duplicatas:\", duplicados_test.shape[0])"
   ]
  },
  {
   "cell_type": "markdown",
   "metadata": {
    "id": "dUbBysVC5AHq"
   },
   "source": [
    "####Análise Descritiva"
   ]
  },
  {
   "cell_type": "code",
   "execution_count": 15,
   "metadata": {
    "colab": {
     "base_uri": "https://localhost:8080/",
     "height": 320
    },
    "executionInfo": {
     "elapsed": 29,
     "status": "ok",
     "timestamp": 1636770401991,
     "user": {
      "displayName": "Tammy Gusmão",
      "photoUrl": "https://lh3.googleusercontent.com/a/default-user=s64",
      "userId": "03220826031629281663"
     },
     "user_tz": 240
    },
    "id": "DDpa7fsGy5vd",
    "outputId": "01262ff2-dce1-430e-db62-1cb05dd21d1a"
   },
   "outputs": [
    {
     "data": {
      "text/html": [
       "<div>\n",
       "<style scoped>\n",
       "    .dataframe tbody tr th:only-of-type {\n",
       "        vertical-align: middle;\n",
       "    }\n",
       "\n",
       "    .dataframe tbody tr th {\n",
       "        vertical-align: top;\n",
       "    }\n",
       "\n",
       "    .dataframe thead th {\n",
       "        text-align: right;\n",
       "    }\n",
       "</style>\n",
       "<table border=\"1\" class=\"dataframe\">\n",
       "  <thead>\n",
       "    <tr style=\"text-align: right;\">\n",
       "      <th></th>\n",
       "      <th>basket_icon_click</th>\n",
       "      <th>basket_add_list</th>\n",
       "      <th>basket_add_detail</th>\n",
       "      <th>sort_by</th>\n",
       "      <th>image_picker</th>\n",
       "      <th>account_page_click</th>\n",
       "      <th>promo_banner_click</th>\n",
       "      <th>detail_wishlist_add</th>\n",
       "      <th>list_size_dropdown</th>\n",
       "      <th>closed_minibasket_click</th>\n",
       "      <th>...</th>\n",
       "      <th>saw_sizecharts</th>\n",
       "      <th>saw_delivery</th>\n",
       "      <th>saw_account_upgrade</th>\n",
       "      <th>saw_homepage</th>\n",
       "      <th>device_mobile</th>\n",
       "      <th>device_computer</th>\n",
       "      <th>device_tablet</th>\n",
       "      <th>returning_user</th>\n",
       "      <th>loc_uk</th>\n",
       "      <th>ordered</th>\n",
       "    </tr>\n",
       "  </thead>\n",
       "  <tbody>\n",
       "    <tr>\n",
       "      <th>count</th>\n",
       "      <td>151655.000000</td>\n",
       "      <td>151655.000000</td>\n",
       "      <td>151655.000000</td>\n",
       "      <td>151655.000000</td>\n",
       "      <td>151655.000000</td>\n",
       "      <td>151655.000000</td>\n",
       "      <td>151655.000000</td>\n",
       "      <td>151655.000000</td>\n",
       "      <td>151655.000000</td>\n",
       "      <td>151655.000000</td>\n",
       "      <td>...</td>\n",
       "      <td>151655.000000</td>\n",
       "      <td>151655.000000</td>\n",
       "      <td>151655.000000</td>\n",
       "      <td>151655.000000</td>\n",
       "      <td>151655.000000</td>\n",
       "      <td>151655.000000</td>\n",
       "      <td>151655.000000</td>\n",
       "      <td>151655.000000</td>\n",
       "      <td>151655.000000</td>\n",
       "      <td>151655.0</td>\n",
       "    </tr>\n",
       "    <tr>\n",
       "      <th>mean</th>\n",
       "      <td>0.074228</td>\n",
       "      <td>0.060954</td>\n",
       "      <td>0.085444</td>\n",
       "      <td>0.036438</td>\n",
       "      <td>0.025334</td>\n",
       "      <td>0.003158</td>\n",
       "      <td>0.014177</td>\n",
       "      <td>0.003053</td>\n",
       "      <td>0.215984</td>\n",
       "      <td>0.013412</td>\n",
       "      <td>...</td>\n",
       "      <td>0.000297</td>\n",
       "      <td>0.005097</td>\n",
       "      <td>0.000996</td>\n",
       "      <td>0.285602</td>\n",
       "      <td>0.681448</td>\n",
       "      <td>0.200673</td>\n",
       "      <td>0.120049</td>\n",
       "      <td>0.529267</td>\n",
       "      <td>0.928324</td>\n",
       "      <td>0.0</td>\n",
       "    </tr>\n",
       "    <tr>\n",
       "      <th>std</th>\n",
       "      <td>0.262142</td>\n",
       "      <td>0.239247</td>\n",
       "      <td>0.279542</td>\n",
       "      <td>0.187378</td>\n",
       "      <td>0.157137</td>\n",
       "      <td>0.056112</td>\n",
       "      <td>0.118220</td>\n",
       "      <td>0.055170</td>\n",
       "      <td>0.411504</td>\n",
       "      <td>0.115031</td>\n",
       "      <td>...</td>\n",
       "      <td>0.017223</td>\n",
       "      <td>0.071212</td>\n",
       "      <td>0.031539</td>\n",
       "      <td>0.451702</td>\n",
       "      <td>0.465916</td>\n",
       "      <td>0.400505</td>\n",
       "      <td>0.325020</td>\n",
       "      <td>0.499144</td>\n",
       "      <td>0.257951</td>\n",
       "      <td>0.0</td>\n",
       "    </tr>\n",
       "    <tr>\n",
       "      <th>min</th>\n",
       "      <td>0.000000</td>\n",
       "      <td>0.000000</td>\n",
       "      <td>0.000000</td>\n",
       "      <td>0.000000</td>\n",
       "      <td>0.000000</td>\n",
       "      <td>0.000000</td>\n",
       "      <td>0.000000</td>\n",
       "      <td>0.000000</td>\n",
       "      <td>0.000000</td>\n",
       "      <td>0.000000</td>\n",
       "      <td>...</td>\n",
       "      <td>0.000000</td>\n",
       "      <td>0.000000</td>\n",
       "      <td>0.000000</td>\n",
       "      <td>0.000000</td>\n",
       "      <td>0.000000</td>\n",
       "      <td>0.000000</td>\n",
       "      <td>0.000000</td>\n",
       "      <td>0.000000</td>\n",
       "      <td>0.000000</td>\n",
       "      <td>0.0</td>\n",
       "    </tr>\n",
       "    <tr>\n",
       "      <th>25%</th>\n",
       "      <td>0.000000</td>\n",
       "      <td>0.000000</td>\n",
       "      <td>0.000000</td>\n",
       "      <td>0.000000</td>\n",
       "      <td>0.000000</td>\n",
       "      <td>0.000000</td>\n",
       "      <td>0.000000</td>\n",
       "      <td>0.000000</td>\n",
       "      <td>0.000000</td>\n",
       "      <td>0.000000</td>\n",
       "      <td>...</td>\n",
       "      <td>0.000000</td>\n",
       "      <td>0.000000</td>\n",
       "      <td>0.000000</td>\n",
       "      <td>0.000000</td>\n",
       "      <td>0.000000</td>\n",
       "      <td>0.000000</td>\n",
       "      <td>0.000000</td>\n",
       "      <td>0.000000</td>\n",
       "      <td>1.000000</td>\n",
       "      <td>0.0</td>\n",
       "    </tr>\n",
       "    <tr>\n",
       "      <th>50%</th>\n",
       "      <td>0.000000</td>\n",
       "      <td>0.000000</td>\n",
       "      <td>0.000000</td>\n",
       "      <td>0.000000</td>\n",
       "      <td>0.000000</td>\n",
       "      <td>0.000000</td>\n",
       "      <td>0.000000</td>\n",
       "      <td>0.000000</td>\n",
       "      <td>0.000000</td>\n",
       "      <td>0.000000</td>\n",
       "      <td>...</td>\n",
       "      <td>0.000000</td>\n",
       "      <td>0.000000</td>\n",
       "      <td>0.000000</td>\n",
       "      <td>0.000000</td>\n",
       "      <td>1.000000</td>\n",
       "      <td>0.000000</td>\n",
       "      <td>0.000000</td>\n",
       "      <td>1.000000</td>\n",
       "      <td>1.000000</td>\n",
       "      <td>0.0</td>\n",
       "    </tr>\n",
       "    <tr>\n",
       "      <th>75%</th>\n",
       "      <td>0.000000</td>\n",
       "      <td>0.000000</td>\n",
       "      <td>0.000000</td>\n",
       "      <td>0.000000</td>\n",
       "      <td>0.000000</td>\n",
       "      <td>0.000000</td>\n",
       "      <td>0.000000</td>\n",
       "      <td>0.000000</td>\n",
       "      <td>0.000000</td>\n",
       "      <td>0.000000</td>\n",
       "      <td>...</td>\n",
       "      <td>0.000000</td>\n",
       "      <td>0.000000</td>\n",
       "      <td>0.000000</td>\n",
       "      <td>1.000000</td>\n",
       "      <td>1.000000</td>\n",
       "      <td>0.000000</td>\n",
       "      <td>0.000000</td>\n",
       "      <td>1.000000</td>\n",
       "      <td>1.000000</td>\n",
       "      <td>0.0</td>\n",
       "    </tr>\n",
       "    <tr>\n",
       "      <th>max</th>\n",
       "      <td>1.000000</td>\n",
       "      <td>1.000000</td>\n",
       "      <td>1.000000</td>\n",
       "      <td>1.000000</td>\n",
       "      <td>1.000000</td>\n",
       "      <td>1.000000</td>\n",
       "      <td>1.000000</td>\n",
       "      <td>1.000000</td>\n",
       "      <td>1.000000</td>\n",
       "      <td>1.000000</td>\n",
       "      <td>...</td>\n",
       "      <td>1.000000</td>\n",
       "      <td>1.000000</td>\n",
       "      <td>1.000000</td>\n",
       "      <td>1.000000</td>\n",
       "      <td>1.000000</td>\n",
       "      <td>1.000000</td>\n",
       "      <td>1.000000</td>\n",
       "      <td>1.000000</td>\n",
       "      <td>1.000000</td>\n",
       "      <td>0.0</td>\n",
       "    </tr>\n",
       "  </tbody>\n",
       "</table>\n",
       "<p>8 rows × 24 columns</p>\n",
       "</div>"
      ],
      "text/plain": [
       "       basket_icon_click  basket_add_list  basket_add_detail        sort_by  \\\n",
       "count      151655.000000    151655.000000      151655.000000  151655.000000   \n",
       "mean            0.074228         0.060954           0.085444       0.036438   \n",
       "std             0.262142         0.239247           0.279542       0.187378   \n",
       "min             0.000000         0.000000           0.000000       0.000000   \n",
       "25%             0.000000         0.000000           0.000000       0.000000   \n",
       "50%             0.000000         0.000000           0.000000       0.000000   \n",
       "75%             0.000000         0.000000           0.000000       0.000000   \n",
       "max             1.000000         1.000000           1.000000       1.000000   \n",
       "\n",
       "        image_picker  account_page_click  promo_banner_click  \\\n",
       "count  151655.000000       151655.000000       151655.000000   \n",
       "mean        0.025334            0.003158            0.014177   \n",
       "std         0.157137            0.056112            0.118220   \n",
       "min         0.000000            0.000000            0.000000   \n",
       "25%         0.000000            0.000000            0.000000   \n",
       "50%         0.000000            0.000000            0.000000   \n",
       "75%         0.000000            0.000000            0.000000   \n",
       "max         1.000000            1.000000            1.000000   \n",
       "\n",
       "       detail_wishlist_add  list_size_dropdown  closed_minibasket_click  ...  \\\n",
       "count        151655.000000       151655.000000            151655.000000  ...   \n",
       "mean              0.003053            0.215984                 0.013412  ...   \n",
       "std               0.055170            0.411504                 0.115031  ...   \n",
       "min               0.000000            0.000000                 0.000000  ...   \n",
       "25%               0.000000            0.000000                 0.000000  ...   \n",
       "50%               0.000000            0.000000                 0.000000  ...   \n",
       "75%               0.000000            0.000000                 0.000000  ...   \n",
       "max               1.000000            1.000000                 1.000000  ...   \n",
       "\n",
       "       saw_sizecharts   saw_delivery  saw_account_upgrade   saw_homepage  \\\n",
       "count   151655.000000  151655.000000        151655.000000  151655.000000   \n",
       "mean         0.000297       0.005097             0.000996       0.285602   \n",
       "std          0.017223       0.071212             0.031539       0.451702   \n",
       "min          0.000000       0.000000             0.000000       0.000000   \n",
       "25%          0.000000       0.000000             0.000000       0.000000   \n",
       "50%          0.000000       0.000000             0.000000       0.000000   \n",
       "75%          0.000000       0.000000             0.000000       1.000000   \n",
       "max          1.000000       1.000000             1.000000       1.000000   \n",
       "\n",
       "       device_mobile  device_computer  device_tablet  returning_user  \\\n",
       "count  151655.000000    151655.000000  151655.000000   151655.000000   \n",
       "mean        0.681448         0.200673       0.120049        0.529267   \n",
       "std         0.465916         0.400505       0.325020        0.499144   \n",
       "min         0.000000         0.000000       0.000000        0.000000   \n",
       "25%         0.000000         0.000000       0.000000        0.000000   \n",
       "50%         1.000000         0.000000       0.000000        1.000000   \n",
       "75%         1.000000         0.000000       0.000000        1.000000   \n",
       "max         1.000000         1.000000       1.000000        1.000000   \n",
       "\n",
       "              loc_uk   ordered  \n",
       "count  151655.000000  151655.0  \n",
       "mean        0.928324       0.0  \n",
       "std         0.257951       0.0  \n",
       "min         0.000000       0.0  \n",
       "25%         1.000000       0.0  \n",
       "50%         1.000000       0.0  \n",
       "75%         1.000000       0.0  \n",
       "max         1.000000       0.0  \n",
       "\n",
       "[8 rows x 24 columns]"
      ]
     },
     "execution_count": 15,
     "metadata": {},
     "output_type": "execute_result"
    }
   ],
   "source": [
    "df_test.describe()"
   ]
  },
  {
   "cell_type": "markdown",
   "metadata": {
    "id": "mbYzJNUR6B2e"
   },
   "source": [
    "####Cont. de Valores Únicos"
   ]
  },
  {
   "cell_type": "code",
   "execution_count": 16,
   "metadata": {
    "colab": {
     "base_uri": "https://localhost:8080/"
    },
    "executionInfo": {
     "elapsed": 29,
     "status": "ok",
     "timestamp": 1636770401992,
     "user": {
      "displayName": "Tammy Gusmão",
      "photoUrl": "https://lh3.googleusercontent.com/a/default-user=s64",
      "userId": "03220826031629281663"
     },
     "user_tz": 240
    },
    "id": "NAwXY80s6EHb",
    "outputId": "5ca480e0-ef38-45ae-f62d-3a49e7968a0b"
   },
   "outputs": [
    {
     "name": "stdout",
     "output_type": "stream",
     "text": [
      "9d24-25k4-47889d24-25k4-494b-398124    1\n",
      "96bj-b7k7-6k5996bj-b7k7-4154-318270    1\n",
      "2190-jkj6-6k5j2190-jkj6-4357-638587    1\n",
      "6b73-2154-6k5j6b73-2154-4527-828230    1\n",
      "jk02-3234-6k5jjk02-3234-4883-166565    1\n",
      "                                      ..\n",
      "d047-bd76-j210d047-bd76-4b50-755800    1\n",
      "476k-9770-j210476k-9770-4958-342409    1\n",
      "576b-j744-j211576b-j744-4387-607495    1\n",
      "7j05-djk9-j2117j05-djk9-4bkb-791821    1\n",
      "64k0-8720-0j1664k0-8720-447k-692331    1\n",
      "Name: UserID, Length: 151655, dtype: int64 \n",
      "\n",
      "0    140398\n",
      "1     11257\n",
      "Name: basket_icon_click, dtype: int64 \n",
      "\n",
      "0    142411\n",
      "1      9244\n",
      "Name: basket_add_list, dtype: int64 \n",
      "\n",
      "0    138697\n",
      "1     12958\n",
      "Name: basket_add_detail, dtype: int64 \n",
      "\n",
      "0    146129\n",
      "1      5526\n",
      "Name: sort_by, dtype: int64 \n",
      "\n",
      "0    147813\n",
      "1      3842\n",
      "Name: image_picker, dtype: int64 \n",
      "\n",
      "0    151176\n",
      "1       479\n",
      "Name: account_page_click, dtype: int64 \n",
      "\n",
      "0    149505\n",
      "1      2150\n",
      "Name: promo_banner_click, dtype: int64 \n",
      "\n",
      "0    151192\n",
      "1       463\n",
      "Name: detail_wishlist_add, dtype: int64 \n",
      "\n",
      "0    118900\n",
      "1     32755\n",
      "Name: list_size_dropdown, dtype: int64 \n",
      "\n",
      "0    149621\n",
      "1      2034\n",
      "Name: closed_minibasket_click, dtype: int64 \n",
      "\n",
      "0    148140\n",
      "1      3515\n",
      "Name: checked_delivery_detail, dtype: int64 \n",
      "\n",
      "0    150337\n",
      "1      1318\n",
      "Name: checked_returns_detail, dtype: int64 \n",
      "\n",
      "0    143746\n",
      "1      7909\n",
      "Name: sign_in, dtype: int64 \n",
      "\n",
      "0    145191\n",
      "1      6464\n",
      "Name: saw_checkout, dtype: int64 \n",
      "\n",
      "0    151610\n",
      "1        45\n",
      "Name: saw_sizecharts, dtype: int64 \n",
      "\n",
      "0    150882\n",
      "1       773\n",
      "Name: saw_delivery, dtype: int64 \n",
      "\n",
      "0    151504\n",
      "1       151\n",
      "Name: saw_account_upgrade, dtype: int64 \n",
      "\n",
      "0    108342\n",
      "1     43313\n",
      "Name: saw_homepage, dtype: int64 \n",
      "\n",
      "1    103345\n",
      "0     48310\n",
      "Name: device_mobile, dtype: int64 \n",
      "\n",
      "0    121222\n",
      "1     30433\n",
      "Name: device_computer, dtype: int64 \n",
      "\n",
      "0    133449\n",
      "1     18206\n",
      "Name: device_tablet, dtype: int64 \n",
      "\n",
      "1    80266\n",
      "0    71389\n",
      "Name: returning_user, dtype: int64 \n",
      "\n",
      "1    140785\n",
      "0     10870\n",
      "Name: loc_uk, dtype: int64 \n",
      "\n",
      "0    151655\n",
      "Name: ordered, dtype: int64 \n",
      "\n"
     ]
    }
   ],
   "source": [
    "count_individual_feattures(df_test, df_test.columns.to_list()) "
   ]
  },
  {
   "cell_type": "markdown",
   "metadata": {
    "id": "LU7cxCbhzlAC"
   },
   "source": [
    "##Tratamento dos Dados"
   ]
  },
  {
   "cell_type": "markdown",
   "metadata": {
    "id": "VKjam1tZ9VOH"
   },
   "source": [
    "O tratamento inicial foi a remoção da coluna `UserID`:"
   ]
  },
  {
   "cell_type": "code",
   "execution_count": 17,
   "metadata": {
    "executionInfo": {
     "elapsed": 28,
     "status": "ok",
     "timestamp": 1636770401993,
     "user": {
      "displayName": "Tammy Gusmão",
      "photoUrl": "https://lh3.googleusercontent.com/a/default-user=s64",
      "userId": "03220826031629281663"
     },
     "user_tz": 240
    },
    "id": "cW0ApjphzncX"
   },
   "outputs": [],
   "source": [
    "to_drop = ['UserID']\n",
    "df_train.drop(labels=to_drop, axis=1, inplace=True)\n",
    "df_test.drop(labels=to_drop, axis=1, inplace=True)"
   ]
  },
  {
   "cell_type": "markdown",
   "metadata": {
    "id": "KE4U7RH9-DzH"
   },
   "source": [
    "Foi considerada a possibilidade de remover alguns atributos através de uma análise de correlação entre as *features*. A seção seguinte dá continuidade ao Tratamendo dos Dados."
   ]
  },
  {
   "cell_type": "markdown",
   "metadata": {
    "id": "Xbg2eX0VznrY"
   },
   "source": [
    "##Análise de Features"
   ]
  },
  {
   "cell_type": "code",
   "execution_count": 18,
   "metadata": {
    "executionInfo": {
     "elapsed": 29,
     "status": "ok",
     "timestamp": 1636770401994,
     "user": {
      "displayName": "Tammy Gusmão",
      "photoUrl": "https://lh3.googleusercontent.com/a/default-user=s64",
      "userId": "03220826031629281663"
     },
     "user_tz": 240
    },
    "id": "EawCebfECYfk"
   },
   "outputs": [],
   "source": [
    "def list_corr(_df, _column_target):\n",
    "  list_correlations = []\n",
    "  list_columns = []\n",
    "\n",
    "  all_features = _df.columns.to_list()\n",
    "\n",
    "  for i in range(0, len(all_features)-1):\n",
    "\n",
    "    result_corr = distance.jaccard(_df[_column_target], _df[all_features[i]]) \n",
    "\n",
    "    #if (result_corr >= 0.5 ):\n",
    "    list_correlations.append(result_corr)\n",
    "    list_columns.append(all_features[i])\n",
    "    \n",
    "  dic = {'column_name': list_columns, 'corr_jaccard': list_correlations}\n",
    "  df_aux = pd.DataFrame(dic)\n",
    "\n",
    "  return df_aux.sort_values(by=['corr_jaccard'],ascending=False) "
   ]
  },
  {
   "cell_type": "markdown",
   "metadata": {
    "id": "1zdVa5SOkC3P"
   },
   "source": [
    "Decidiu-se por manter apenas as colunas com correlação `maior que 0.5` em relação a variável target `ordered`. Assim, as `features` a serem selecionadas são: "
   ]
  },
  {
   "cell_type": "code",
   "execution_count": 19,
   "metadata": {
    "colab": {
     "base_uri": "https://localhost:8080/"
    },
    "executionInfo": {
     "elapsed": 27,
     "status": "ok",
     "timestamp": 1636770401994,
     "user": {
      "displayName": "Tammy Gusmão",
      "photoUrl": "https://lh3.googleusercontent.com/a/default-user=s64",
      "userId": "03220826031629281663"
     },
     "user_tz": 240
    },
    "id": "_q2XrCfDDNg4",
    "outputId": "ae754381-239a-48f9-c9f4-c89a508db744"
   },
   "outputs": [
    {
     "name": "stdout",
     "output_type": "stream",
     "text": [
      "21\n"
     ]
    },
    {
     "data": {
      "text/plain": [
       "['saw_sizecharts',\n",
       " 'saw_account_upgrade',\n",
       " 'detail_wishlist_add',\n",
       " 'saw_delivery',\n",
       " 'account_page_click',\n",
       " 'checked_returns_detail',\n",
       " 'device_mobile',\n",
       " 'promo_banner_click',\n",
       " 'device_tablet',\n",
       " 'loc_uk',\n",
       " 'sort_by',\n",
       " 'returning_user',\n",
       " 'image_picker',\n",
       " 'device_computer',\n",
       " 'closed_minibasket_click',\n",
       " 'saw_homepage',\n",
       " 'list_size_dropdown',\n",
       " 'basket_add_list',\n",
       " 'basket_add_detail',\n",
       " 'basket_icon_click',\n",
       " 'sign_in']"
      ]
     },
     "execution_count": 19,
     "metadata": {},
     "output_type": "execute_result"
    }
   ],
   "source": [
    "cor_col = list_corr(df_train, 'ordered')\n",
    "\n",
    "col = list(cor_col[cor_col['corr_jaccard'] > 0.5].column_name)\n",
    "print(len(col))\n",
    "col"
   ]
  },
  {
   "cell_type": "markdown",
   "metadata": {
    "id": "Nz7PXsY0zszs"
   },
   "source": [
    "###Redução das Dimensões do Dataset"
   ]
  },
  {
   "cell_type": "code",
   "execution_count": 20,
   "metadata": {
    "executionInfo": {
     "elapsed": 25,
     "status": "ok",
     "timestamp": 1636770401994,
     "user": {
      "displayName": "Tammy Gusmão",
      "photoUrl": "https://lh3.googleusercontent.com/a/default-user=s64",
      "userId": "03220826031629281663"
     },
     "user_tz": 240
    },
    "id": "TW9QW8nDnOWs"
   },
   "outputs": [],
   "source": [
    "#Adicionando a coluna target na lista de colunas a serem selecionadas\n",
    "col.append('ordered')\n",
    "\n",
    "#Reduzindo o dataset de treino:\n",
    "df_train = df_train[col].copy()\n",
    "\n",
    "#Reduzindo o dataset de teste:\n",
    "df_test = df_test[col].copy()"
   ]
  },
  {
   "cell_type": "code",
   "execution_count": 21,
   "metadata": {
    "colab": {
     "base_uri": "https://localhost:8080/",
     "height": 226
    },
    "executionInfo": {
     "elapsed": 26,
     "status": "ok",
     "timestamp": 1636770401995,
     "user": {
      "displayName": "Tammy Gusmão",
      "photoUrl": "https://lh3.googleusercontent.com/a/default-user=s64",
      "userId": "03220826031629281663"
     },
     "user_tz": 240
    },
    "id": "V0oiSmbxotgs",
    "outputId": "b71e8c53-9101-4996-c754-aca1a12838d8"
   },
   "outputs": [
    {
     "data": {
      "text/html": [
       "<div>\n",
       "<style scoped>\n",
       "    .dataframe tbody tr th:only-of-type {\n",
       "        vertical-align: middle;\n",
       "    }\n",
       "\n",
       "    .dataframe tbody tr th {\n",
       "        vertical-align: top;\n",
       "    }\n",
       "\n",
       "    .dataframe thead th {\n",
       "        text-align: right;\n",
       "    }\n",
       "</style>\n",
       "<table border=\"1\" class=\"dataframe\">\n",
       "  <thead>\n",
       "    <tr style=\"text-align: right;\">\n",
       "      <th></th>\n",
       "      <th>saw_sizecharts</th>\n",
       "      <th>saw_account_upgrade</th>\n",
       "      <th>detail_wishlist_add</th>\n",
       "      <th>saw_delivery</th>\n",
       "      <th>account_page_click</th>\n",
       "      <th>checked_returns_detail</th>\n",
       "      <th>device_mobile</th>\n",
       "      <th>promo_banner_click</th>\n",
       "      <th>device_tablet</th>\n",
       "      <th>loc_uk</th>\n",
       "      <th>...</th>\n",
       "      <th>image_picker</th>\n",
       "      <th>device_computer</th>\n",
       "      <th>closed_minibasket_click</th>\n",
       "      <th>saw_homepage</th>\n",
       "      <th>list_size_dropdown</th>\n",
       "      <th>basket_add_list</th>\n",
       "      <th>basket_add_detail</th>\n",
       "      <th>basket_icon_click</th>\n",
       "      <th>sign_in</th>\n",
       "      <th>ordered</th>\n",
       "    </tr>\n",
       "  </thead>\n",
       "  <tbody>\n",
       "    <tr>\n",
       "      <th>0</th>\n",
       "      <td>0</td>\n",
       "      <td>0</td>\n",
       "      <td>0</td>\n",
       "      <td>0</td>\n",
       "      <td>0</td>\n",
       "      <td>0</td>\n",
       "      <td>1</td>\n",
       "      <td>0</td>\n",
       "      <td>0</td>\n",
       "      <td>1</td>\n",
       "      <td>...</td>\n",
       "      <td>0</td>\n",
       "      <td>0</td>\n",
       "      <td>0</td>\n",
       "      <td>0</td>\n",
       "      <td>0</td>\n",
       "      <td>0</td>\n",
       "      <td>0</td>\n",
       "      <td>0</td>\n",
       "      <td>0</td>\n",
       "      <td>0</td>\n",
       "    </tr>\n",
       "    <tr>\n",
       "      <th>1</th>\n",
       "      <td>0</td>\n",
       "      <td>0</td>\n",
       "      <td>0</td>\n",
       "      <td>0</td>\n",
       "      <td>0</td>\n",
       "      <td>0</td>\n",
       "      <td>1</td>\n",
       "      <td>0</td>\n",
       "      <td>0</td>\n",
       "      <td>1</td>\n",
       "      <td>...</td>\n",
       "      <td>0</td>\n",
       "      <td>0</td>\n",
       "      <td>0</td>\n",
       "      <td>0</td>\n",
       "      <td>0</td>\n",
       "      <td>0</td>\n",
       "      <td>0</td>\n",
       "      <td>0</td>\n",
       "      <td>0</td>\n",
       "      <td>0</td>\n",
       "    </tr>\n",
       "    <tr>\n",
       "      <th>2</th>\n",
       "      <td>0</td>\n",
       "      <td>0</td>\n",
       "      <td>0</td>\n",
       "      <td>0</td>\n",
       "      <td>0</td>\n",
       "      <td>0</td>\n",
       "      <td>1</td>\n",
       "      <td>0</td>\n",
       "      <td>0</td>\n",
       "      <td>1</td>\n",
       "      <td>...</td>\n",
       "      <td>0</td>\n",
       "      <td>0</td>\n",
       "      <td>0</td>\n",
       "      <td>0</td>\n",
       "      <td>0</td>\n",
       "      <td>0</td>\n",
       "      <td>0</td>\n",
       "      <td>0</td>\n",
       "      <td>0</td>\n",
       "      <td>0</td>\n",
       "    </tr>\n",
       "    <tr>\n",
       "      <th>3</th>\n",
       "      <td>0</td>\n",
       "      <td>0</td>\n",
       "      <td>0</td>\n",
       "      <td>0</td>\n",
       "      <td>0</td>\n",
       "      <td>0</td>\n",
       "      <td>1</td>\n",
       "      <td>0</td>\n",
       "      <td>0</td>\n",
       "      <td>1</td>\n",
       "      <td>...</td>\n",
       "      <td>0</td>\n",
       "      <td>0</td>\n",
       "      <td>0</td>\n",
       "      <td>0</td>\n",
       "      <td>0</td>\n",
       "      <td>0</td>\n",
       "      <td>0</td>\n",
       "      <td>0</td>\n",
       "      <td>0</td>\n",
       "      <td>0</td>\n",
       "    </tr>\n",
       "    <tr>\n",
       "      <th>4</th>\n",
       "      <td>0</td>\n",
       "      <td>0</td>\n",
       "      <td>0</td>\n",
       "      <td>0</td>\n",
       "      <td>0</td>\n",
       "      <td>0</td>\n",
       "      <td>0</td>\n",
       "      <td>0</td>\n",
       "      <td>1</td>\n",
       "      <td>1</td>\n",
       "      <td>...</td>\n",
       "      <td>0</td>\n",
       "      <td>0</td>\n",
       "      <td>0</td>\n",
       "      <td>1</td>\n",
       "      <td>1</td>\n",
       "      <td>1</td>\n",
       "      <td>0</td>\n",
       "      <td>0</td>\n",
       "      <td>1</td>\n",
       "      <td>1</td>\n",
       "    </tr>\n",
       "  </tbody>\n",
       "</table>\n",
       "<p>5 rows × 22 columns</p>\n",
       "</div>"
      ],
      "text/plain": [
       "   saw_sizecharts  saw_account_upgrade  detail_wishlist_add  saw_delivery  \\\n",
       "0               0                    0                    0             0   \n",
       "1               0                    0                    0             0   \n",
       "2               0                    0                    0             0   \n",
       "3               0                    0                    0             0   \n",
       "4               0                    0                    0             0   \n",
       "\n",
       "   account_page_click  checked_returns_detail  device_mobile  \\\n",
       "0                   0                       0              1   \n",
       "1                   0                       0              1   \n",
       "2                   0                       0              1   \n",
       "3                   0                       0              1   \n",
       "4                   0                       0              0   \n",
       "\n",
       "   promo_banner_click  device_tablet  loc_uk  ...  image_picker  \\\n",
       "0                   0              0       1  ...             0   \n",
       "1                   0              0       1  ...             0   \n",
       "2                   0              0       1  ...             0   \n",
       "3                   0              0       1  ...             0   \n",
       "4                   0              1       1  ...             0   \n",
       "\n",
       "   device_computer  closed_minibasket_click  saw_homepage  list_size_dropdown  \\\n",
       "0                0                        0             0                   0   \n",
       "1                0                        0             0                   0   \n",
       "2                0                        0             0                   0   \n",
       "3                0                        0             0                   0   \n",
       "4                0                        0             1                   1   \n",
       "\n",
       "   basket_add_list  basket_add_detail  basket_icon_click  sign_in  ordered  \n",
       "0                0                  0                  0        0        0  \n",
       "1                0                  0                  0        0        0  \n",
       "2                0                  0                  0        0        0  \n",
       "3                0                  0                  0        0        0  \n",
       "4                1                  0                  0        1        1  \n",
       "\n",
       "[5 rows x 22 columns]"
      ]
     },
     "execution_count": 21,
     "metadata": {},
     "output_type": "execute_result"
    }
   ],
   "source": [
    "df_train.head()"
   ]
  },
  {
   "cell_type": "code",
   "execution_count": 25,
   "metadata": {
    "colab": {
     "base_uri": "https://localhost:8080/",
     "height": 226
    },
    "executionInfo": {
     "elapsed": 24,
     "status": "ok",
     "timestamp": 1636770401995,
     "user": {
      "displayName": "Tammy Gusmão",
      "photoUrl": "https://lh3.googleusercontent.com/a/default-user=s64",
      "userId": "03220826031629281663"
     },
     "user_tz": 240
    },
    "id": "upbkVd7MzufU",
    "outputId": "7d234f9a-f08c-403a-e17f-5222f7fa3998"
   },
   "outputs": [
    {
     "data": {
      "text/html": [
       "<div>\n",
       "<style scoped>\n",
       "    .dataframe tbody tr th:only-of-type {\n",
       "        vertical-align: middle;\n",
       "    }\n",
       "\n",
       "    .dataframe tbody tr th {\n",
       "        vertical-align: top;\n",
       "    }\n",
       "\n",
       "    .dataframe thead th {\n",
       "        text-align: right;\n",
       "    }\n",
       "</style>\n",
       "<table border=\"1\" class=\"dataframe\">\n",
       "  <thead>\n",
       "    <tr style=\"text-align: right;\">\n",
       "      <th></th>\n",
       "      <th>saw_sizecharts</th>\n",
       "      <th>saw_account_upgrade</th>\n",
       "      <th>detail_wishlist_add</th>\n",
       "      <th>saw_delivery</th>\n",
       "      <th>account_page_click</th>\n",
       "      <th>checked_returns_detail</th>\n",
       "      <th>device_mobile</th>\n",
       "      <th>promo_banner_click</th>\n",
       "      <th>device_tablet</th>\n",
       "      <th>loc_uk</th>\n",
       "      <th>sort_by</th>\n",
       "      <th>returning_user</th>\n",
       "      <th>image_picker</th>\n",
       "      <th>device_computer</th>\n",
       "      <th>closed_minibasket_click</th>\n",
       "      <th>saw_homepage</th>\n",
       "      <th>list_size_dropdown</th>\n",
       "      <th>basket_add_list</th>\n",
       "      <th>basket_add_detail</th>\n",
       "      <th>basket_icon_click</th>\n",
       "      <th>sign_in</th>\n",
       "      <th>ordered</th>\n",
       "    </tr>\n",
       "  </thead>\n",
       "  <tbody>\n",
       "    <tr>\n",
       "      <th>0</th>\n",
       "      <td>0</td>\n",
       "      <td>0</td>\n",
       "      <td>0</td>\n",
       "      <td>0</td>\n",
       "      <td>0</td>\n",
       "      <td>0</td>\n",
       "      <td>1</td>\n",
       "      <td>0</td>\n",
       "      <td>0</td>\n",
       "      <td>1</td>\n",
       "      <td>0</td>\n",
       "      <td>0</td>\n",
       "      <td>0</td>\n",
       "      <td>0</td>\n",
       "      <td>0</td>\n",
       "      <td>0</td>\n",
       "      <td>0</td>\n",
       "      <td>0</td>\n",
       "      <td>0</td>\n",
       "      <td>0</td>\n",
       "      <td>0</td>\n",
       "      <td>0</td>\n",
       "    </tr>\n",
       "    <tr>\n",
       "      <th>1</th>\n",
       "      <td>0</td>\n",
       "      <td>0</td>\n",
       "      <td>0</td>\n",
       "      <td>0</td>\n",
       "      <td>0</td>\n",
       "      <td>0</td>\n",
       "      <td>1</td>\n",
       "      <td>0</td>\n",
       "      <td>0</td>\n",
       "      <td>1</td>\n",
       "      <td>0</td>\n",
       "      <td>0</td>\n",
       "      <td>0</td>\n",
       "      <td>0</td>\n",
       "      <td>0</td>\n",
       "      <td>0</td>\n",
       "      <td>0</td>\n",
       "      <td>0</td>\n",
       "      <td>0</td>\n",
       "      <td>0</td>\n",
       "      <td>0</td>\n",
       "      <td>0</td>\n",
       "    </tr>\n",
       "    <tr>\n",
       "      <th>2</th>\n",
       "      <td>0</td>\n",
       "      <td>0</td>\n",
       "      <td>0</td>\n",
       "      <td>0</td>\n",
       "      <td>0</td>\n",
       "      <td>0</td>\n",
       "      <td>1</td>\n",
       "      <td>0</td>\n",
       "      <td>0</td>\n",
       "      <td>1</td>\n",
       "      <td>0</td>\n",
       "      <td>0</td>\n",
       "      <td>0</td>\n",
       "      <td>0</td>\n",
       "      <td>0</td>\n",
       "      <td>0</td>\n",
       "      <td>0</td>\n",
       "      <td>0</td>\n",
       "      <td>0</td>\n",
       "      <td>0</td>\n",
       "      <td>0</td>\n",
       "      <td>0</td>\n",
       "    </tr>\n",
       "    <tr>\n",
       "      <th>3</th>\n",
       "      <td>0</td>\n",
       "      <td>0</td>\n",
       "      <td>0</td>\n",
       "      <td>0</td>\n",
       "      <td>0</td>\n",
       "      <td>0</td>\n",
       "      <td>1</td>\n",
       "      <td>0</td>\n",
       "      <td>0</td>\n",
       "      <td>1</td>\n",
       "      <td>0</td>\n",
       "      <td>0</td>\n",
       "      <td>0</td>\n",
       "      <td>0</td>\n",
       "      <td>0</td>\n",
       "      <td>0</td>\n",
       "      <td>0</td>\n",
       "      <td>0</td>\n",
       "      <td>1</td>\n",
       "      <td>0</td>\n",
       "      <td>0</td>\n",
       "      <td>0</td>\n",
       "    </tr>\n",
       "    <tr>\n",
       "      <th>4</th>\n",
       "      <td>0</td>\n",
       "      <td>0</td>\n",
       "      <td>0</td>\n",
       "      <td>0</td>\n",
       "      <td>0</td>\n",
       "      <td>0</td>\n",
       "      <td>1</td>\n",
       "      <td>0</td>\n",
       "      <td>0</td>\n",
       "      <td>1</td>\n",
       "      <td>0</td>\n",
       "      <td>0</td>\n",
       "      <td>0</td>\n",
       "      <td>0</td>\n",
       "      <td>0</td>\n",
       "      <td>0</td>\n",
       "      <td>0</td>\n",
       "      <td>0</td>\n",
       "      <td>0</td>\n",
       "      <td>0</td>\n",
       "      <td>0</td>\n",
       "      <td>0</td>\n",
       "    </tr>\n",
       "  </tbody>\n",
       "</table>\n",
       "</div>"
      ],
      "text/plain": [
       "   saw_sizecharts  saw_account_upgrade  ...  sign_in  ordered\n",
       "0               0                    0  ...        0        0\n",
       "1               0                    0  ...        0        0\n",
       "2               0                    0  ...        0        0\n",
       "3               0                    0  ...        0        0\n",
       "4               0                    0  ...        0        0\n",
       "\n",
       "[5 rows x 22 columns]"
      ]
     },
     "execution_count": 25,
     "metadata": {},
     "output_type": "execute_result"
    }
   ],
   "source": [
    "df_test.head()"
   ]
  },
  {
   "cell_type": "code",
   "execution_count": 26,
   "metadata": {
    "colab": {
     "base_uri": "https://localhost:8080/"
    },
    "executionInfo": {
     "elapsed": 23,
     "status": "ok",
     "timestamp": 1636770401995,
     "user": {
      "displayName": "Tammy Gusmão",
      "photoUrl": "https://lh3.googleusercontent.com/a/default-user=s64",
      "userId": "03220826031629281663"
     },
     "user_tz": 240
    },
    "id": "KmpNrOa7pz_t",
    "outputId": "b8b26bf2-d90c-4e62-adbd-2997d24800f5"
   },
   "outputs": [
    {
     "name": "stdout",
     "output_type": "stream",
     "text": [
      "(455401, 22)\n",
      "(151655, 22)\n"
     ]
    }
   ],
   "source": [
    "print(df_train.shape)\n",
    "print(df_test.shape)"
   ]
  },
  {
   "cell_type": "markdown",
   "metadata": {
    "id": "6yaP9m7FoPZ5"
   },
   "source": [
    "##Balanceamento dos Dados"
   ]
  },
  {
   "cell_type": "markdown",
   "metadata": {
    "id": "Ihwf1SA5UnmQ"
   },
   "source": [
    "Nesta seção é verificada a situação do balanço entre as classes da *feature target*. "
   ]
  },
  {
   "cell_type": "code",
   "execution_count": 27,
   "metadata": {
    "colab": {
     "base_uri": "https://localhost:8080/"
    },
    "executionInfo": {
     "elapsed": 23,
     "status": "ok",
     "timestamp": 1636770401996,
     "user": {
      "displayName": "Tammy Gusmão",
      "photoUrl": "https://lh3.googleusercontent.com/a/default-user=s64",
      "userId": "03220826031629281663"
     },
     "user_tz": 240
    },
    "id": "zswcDgU-ndVd",
    "outputId": "40e36644-e38f-485b-c49a-aa948a08698d"
   },
   "outputs": [
    {
     "data": {
      "text/plain": [
       "0    436308\n",
       "1     19093\n",
       "Name: ordered, dtype: int64"
      ]
     },
     "execution_count": 27,
     "metadata": {},
     "output_type": "execute_result"
    }
   ],
   "source": [
    "df_train['ordered'].value_counts()"
   ]
  },
  {
   "cell_type": "code",
   "execution_count": 28,
   "metadata": {
    "colab": {
     "base_uri": "https://localhost:8080/",
     "height": 313
    },
    "executionInfo": {
     "elapsed": 431,
     "status": "ok",
     "timestamp": 1636770402405,
     "user": {
      "displayName": "Tammy Gusmão",
      "photoUrl": "https://lh3.googleusercontent.com/a/default-user=s64",
      "userId": "03220826031629281663"
     },
     "user_tz": 240
    },
    "id": "sXZtMVzVv-d2",
    "outputId": "0b775956-440f-4d25-cd86-83f6701d6ce0"
   },
   "outputs": [
    {
     "name": "stdout",
     "output_type": "stream",
     "text": [
      "Diferença entre classes: 417215\n"
     ]
    },
    {
     "data": {
      "image/png": "[encoded data removed]",
      "text/plain": [
       "<Figure size 432x288 with 1 Axes>"
      ]
     },
     "metadata": {
      "needs_background": "light"
     },
     "output_type": "display_data"
    }
   ],
   "source": [
    "#Checando a quantia de registros para cada classe do atributo target\n",
    "# e definindo arrays contendo os seus valores\n",
    "\n",
    "target_series = df_train['ordered'].map({0:'False', 1:'True'})\n",
    "value_counts_target = target_series.value_counts()\n",
    "\n",
    "labels_graph = list(value_counts_target.index.values)\n",
    "values_graph = [value_counts_target[0], value_counts_target[1]]\n",
    "\n",
    "print(\"Diferença entre classes:\", (value_counts_target[0] - value_counts_target[1]))\n",
    "\n",
    "plt.bar(labels_graph, values_graph, width=0.5)\n",
    "plt.title('Classes Target Vs Qntd.')\n",
    "plt.xlabel('Classes Target')\n",
    "plt.ylabel('Qntd.')\n",
    "plt.show()"
   ]
  },
  {
   "cell_type": "markdown",
   "metadata": {
    "id": "X_0gY5fUVhNE"
   },
   "source": [
    "De acordo com as informações acima, a classe `False` (cliente não realizou compra) possui 417215 registros a mais que a classe `True`."
   ]
  },
  {
   "cell_type": "code",
   "execution_count": 29,
   "metadata": {
    "executionInfo": {
     "elapsed": 3,
     "status": "ok",
     "timestamp": 1636770402406,
     "user": {
      "displayName": "Tammy Gusmão",
      "photoUrl": "https://lh3.googleusercontent.com/a/default-user=s64",
      "userId": "03220826031629281663"
     },
     "user_tz": 240
    },
    "id": "vXESSSqZsHPY"
   },
   "outputs": [],
   "source": [
    "#Definição das variáveis X e y:\n",
    "\n",
    "X = df_train.loc[:,df_train.columns[0]:df_train.columns[len(df_train.columns)-2]].values\n",
    "# df_train.columns[0] -> primeira coluna do dataframe\n",
    "# df_train.columns[len(df_train.columns)-2] -> penúltima coluna do dataframe\n",
    "\n",
    "y = df_train['ordered'].values"
   ]
  },
  {
   "cell_type": "markdown",
   "metadata": {
    "id": "r0T6QbPEuWv8"
   },
   "source": [
    "Diante da desigualdade na quantia de registros, foi optado pelo *Random OverSampling* da classe minoritária:"
   ]
  },
  {
   "cell_type": "code",
   "execution_count": 30,
   "metadata": {
    "colab": {
     "base_uri": "https://localhost:8080/"
    },
    "executionInfo": {
     "elapsed": 556,
     "status": "ok",
     "timestamp": 1636770402959,
     "user": {
      "displayName": "Tammy Gusmão",
      "photoUrl": "https://lh3.googleusercontent.com/a/default-user=s64",
      "userId": "03220826031629281663"
     },
     "user_tz": 240
    },
    "id": "awX1UFgtugsY",
    "outputId": "313a8153-87d9-4401-8d72-69a3747be663"
   },
   "outputs": [
    {
     "name": "stderr",
     "output_type": "stream",
     "text": [
      "/usr/local/lib/python3.7/dist-packages/sklearn/utils/deprecation.py:87: FutureWarning: Function safe_indexing is deprecated; safe_indexing is deprecated in version 0.22 and will be removed in version 0.24.\n",
      "  warnings.warn(msg, category=FutureWarning)\n"
     ]
    }
   ],
   "source": [
    "#Definindo estratégia de Over Sample\n",
    "oversample = RandomOverSampler(sampling_strategy='minority')\n",
    "X_samp, y_samp = oversample.fit_resample(X, y)"
   ]
  },
  {
   "cell_type": "code",
   "execution_count": 31,
   "metadata": {
    "executionInfo": {
     "elapsed": 5,
     "status": "ok",
     "timestamp": 1636770402960,
     "user": {
      "displayName": "Tammy Gusmão",
      "photoUrl": "https://lh3.googleusercontent.com/a/default-user=s64",
      "userId": "03220826031629281663"
     },
     "user_tz": 240
    },
    "id": "WwlfasXJuwCH"
   },
   "outputs": [],
   "source": [
    "X_train, X_valid, y_train, y_valid = train_test_split(X_samp,\n",
    "                                                      y_samp,\n",
    "                                                      test_size=0.25,\n",
    "                                                      random_state=42)"
   ]
  },
  {
   "cell_type": "markdown",
   "metadata": {
    "id": "3BzbTjiWrx6K"
   },
   "source": [
    "Definindo o *Test Size* de 25%, as amostras de treino e validação foram criadas:"
   ]
  },
  {
   "cell_type": "code",
   "execution_count": 32,
   "metadata": {
    "colab": {
     "base_uri": "https://localhost:8080/"
    },
    "executionInfo": {
     "elapsed": 5,
     "status": "ok",
     "timestamp": 1636770402961,
     "user": {
      "displayName": "Tammy Gusmão",
      "photoUrl": "https://lh3.googleusercontent.com/a/default-user=s64",
      "userId": "03220826031629281663"
     },
     "user_tz": 240
    },
    "id": "QuAFv9Puu79n",
    "outputId": "43c8690b-32a1-4222-d5d7-b84a38541703"
   },
   "outputs": [
    {
     "name": "stdout",
     "output_type": "stream",
     "text": [
      "Amostras de treino:\n",
      " * X_train: (654462, 21)\n",
      " * y_train: (654462,)\n",
      "Amostras de validação:\n",
      " * X_valid: (218154, 21)\n",
      " * y_valid: (218154,)\n"
     ]
    }
   ],
   "source": [
    "print('Amostras de treino:')\n",
    "print(f' * X_train: {X_train.shape}')\n",
    "print(f' * y_train: {y_train.shape}')\n",
    "\n",
    "print('Amostras de validação:')\n",
    "print(f' * X_valid: {X_valid.shape}')\n",
    "print(f' * y_valid: {y_valid.shape}')"
   ]
  },
  {
   "cell_type": "markdown",
   "metadata": {
    "id": "t2LxcfBpqrvl"
   },
   "source": [
    "##Aplicação de Algoritmo de ML"
   ]
  },
  {
   "cell_type": "markdown",
   "metadata": {
    "id": "_lWR3vuUWTpl"
   },
   "source": [
    "Nesta seção, o modelo de ML é definido. Após o seu treino, é realizado um teste de validação, focando nos valores de acurácia e de perda (*loss*). Em seguida, avaliamos o modelo através do *classification report* e matriz de confusão. \n",
    "\n",
    "Um MLP simples com Keras foi utilizado para a atividade de predição probabilística. "
   ]
  },
  {
   "cell_type": "markdown",
   "metadata": {
    "id": "glThYxebr0Uo"
   },
   "source": [
    "###Modelagem"
   ]
  },
  {
   "cell_type": "code",
   "execution_count": 33,
   "metadata": {
    "executionInfo": {
     "elapsed": 2,
     "status": "ok",
     "timestamp": 1636770404405,
     "user": {
      "displayName": "Tammy Gusmão",
      "photoUrl": "https://lh3.googleusercontent.com/a/default-user=s64",
      "userId": "03220826031629281663"
     },
     "user_tz": 240
    },
    "id": "QGRahbYAqvWW"
   },
   "outputs": [],
   "source": [
    "model = Sequential()"
   ]
  },
  {
   "cell_type": "code",
   "execution_count": 34,
   "metadata": {
    "colab": {
     "base_uri": "https://localhost:8080/"
    },
    "executionInfo": {
     "elapsed": 7,
     "status": "ok",
     "timestamp": 1636770404948,
     "user": {
      "displayName": "Tammy Gusmão",
      "photoUrl": "https://lh3.googleusercontent.com/a/default-user=s64",
      "userId": "03220826031629281663"
     },
     "user_tz": 240
    },
    "id": "CXTYeTjTzNxY",
    "outputId": "776e5956-1996-4e5f-e7ca-a34c175faf06"
   },
   "outputs": [
    {
     "data": {
      "text/plain": [
       "2"
      ]
     },
     "execution_count": 34,
     "metadata": {},
     "output_type": "execute_result"
    }
   ],
   "source": [
    "num_classes = df_train['ordered'].nunique()\n",
    "num_classes"
   ]
  },
  {
   "cell_type": "code",
   "execution_count": 35,
   "metadata": {
    "colab": {
     "base_uri": "https://localhost:8080/"
    },
    "executionInfo": {
     "elapsed": 4,
     "status": "ok",
     "timestamp": 1636770411357,
     "user": {
      "displayName": "Tammy Gusmão",
      "photoUrl": "https://lh3.googleusercontent.com/a/default-user=s64",
      "userId": "03220826031629281663"
     },
     "user_tz": 240
    },
    "id": "L7DDkNZ2rFSS",
    "outputId": "ecea65e7-443d-49cb-accb-9c9f62d0ae56"
   },
   "outputs": [
    {
     "name": "stdout",
     "output_type": "stream",
     "text": [
      "Model: \"sequential\"\n",
      "_________________________________________________________________\n",
      " Layer (type)                Output Shape              Param #   \n",
      "=================================================================\n",
      " dense (Dense)               (None, 42)                924       \n",
      "                                                                 \n",
      " dropout (Dropout)           (None, 42)                0         \n",
      "                                                                 \n",
      " dense_1 (Dense)             (None, 42)                1806      \n",
      "                                                                 \n",
      " dropout_1 (Dropout)         (None, 42)                0         \n",
      "                                                                 \n",
      " dense_2 (Dense)             (None, 1)                 43        \n",
      "                                                                 \n",
      "=================================================================\n",
      "Total params: 2,773\n",
      "Trainable params: 2,773\n",
      "Non-trainable params: 0\n",
      "_________________________________________________________________\n"
     ]
    }
   ],
   "source": [
    "model.add(Dense(42, activation = 'relu', input_dim=21))\n",
    "model.add(Dropout(0.2))\n",
    "model.add(Dense(42, activation = 'relu'))\n",
    "model.add(Dropout(0.2))\n",
    "model.add(Dense(units = num_classes-1, activation = 'sigmoid'))\n",
    "model.summary()"
   ]
  },
  {
   "cell_type": "code",
   "execution_count": 36,
   "metadata": {
    "executionInfo": {
     "elapsed": 444,
     "status": "ok",
     "timestamp": 1636770413550,
     "user": {
      "displayName": "Tammy Gusmão",
      "photoUrl": "https://lh3.googleusercontent.com/a/default-user=s64",
      "userId": "03220826031629281663"
     },
     "user_tz": 240
    },
    "id": "cZEMq4kSrFso"
   },
   "outputs": [],
   "source": [
    "model.compile(optimizer='rmsprop', \n",
    "              loss='binary_crossentropy',\n",
    "              metrics=['accuracy'])"
   ]
  },
  {
   "cell_type": "markdown",
   "metadata": {
    "id": "L6f1HwQJruF0"
   },
   "source": [
    "###Treino e Validação"
   ]
  },
  {
   "cell_type": "code",
   "execution_count": 37,
   "metadata": {
    "executionInfo": {
     "elapsed": 5,
     "status": "ok",
     "timestamp": 1636770415900,
     "user": {
      "displayName": "Tammy Gusmão",
      "photoUrl": "https://lh3.googleusercontent.com/a/default-user=s64",
      "userId": "03220826031629281663"
     },
     "user_tz": 240
    },
    "id": "ofHPyCwSyK1M"
   },
   "outputs": [],
   "source": [
    "EPOCHS = 10\n",
    "BATCH_SIZE = 40"
   ]
  },
  {
   "cell_type": "code",
   "execution_count": 38,
   "metadata": {
    "colab": {
     "base_uri": "https://localhost:8080/"
    },
    "executionInfo": {
     "elapsed": 324936,
     "status": "ok",
     "timestamp": 1636770749221,
     "user": {
      "displayName": "Tammy Gusmão",
      "photoUrl": "https://lh3.googleusercontent.com/a/default-user=s64",
      "userId": "03220826031629281663"
     },
     "user_tz": 240
    },
    "id": "Qa5S3NQgravg",
    "outputId": "0e164583-4e48-4d89-817e-cd30debf705b"
   },
   "outputs": [
    {
     "name": "stdout",
     "output_type": "stream",
     "text": [
      "Epoch 1/10\n",
      "16362/16362 [==============================] - 32s 2ms/step - loss: 0.1101 - accuracy: 0.9726 - val_loss: 0.1052 - val_accuracy: 0.9738\n",
      "Epoch 2/10\n",
      "16362/16362 [==============================] - 31s 2ms/step - loss: 0.1084 - accuracy: 0.9738 - val_loss: 0.1083 - val_accuracy: 0.9739\n",
      "Epoch 3/10\n",
      "16362/16362 [==============================] - 30s 2ms/step - loss: 0.1088 - accuracy: 0.9739 - val_loss: 0.1096 - val_accuracy: 0.9739\n",
      "Epoch 4/10\n",
      "16362/16362 [==============================] - 31s 2ms/step - loss: 0.1091 - accuracy: 0.9738 - val_loss: 0.1059 - val_accuracy: 0.9738\n",
      "Epoch 5/10\n",
      "16362/16362 [==============================] - 31s 2ms/step - loss: 0.1096 - accuracy: 0.9738 - val_loss: 0.1047 - val_accuracy: 0.9740\n",
      "Epoch 6/10\n",
      "16362/16362 [==============================] - 31s 2ms/step - loss: 0.1103 - accuracy: 0.9738 - val_loss: 0.1075 - val_accuracy: 0.9739\n",
      "Epoch 7/10\n",
      "16362/16362 [==============================] - 31s 2ms/step - loss: 0.1104 - accuracy: 0.9738 - val_loss: 0.1105 - val_accuracy: 0.9739\n",
      "Epoch 8/10\n",
      "16362/16362 [==============================] - 30s 2ms/step - loss: 0.1112 - accuracy: 0.9737 - val_loss: 0.1096 - val_accuracy: 0.9740\n",
      "Epoch 9/10\n",
      "16362/16362 [==============================] - 30s 2ms/step - loss: 0.1115 - accuracy: 0.9738 - val_loss: 0.1057 - val_accuracy: 0.9740\n",
      "Epoch 10/10\n",
      "16362/16362 [==============================] - 30s 2ms/step - loss: 0.1118 - accuracy: 0.9737 - val_loss: 0.1115 - val_accuracy: 0.9740\n"
     ]
    }
   ],
   "source": [
    "history = model.fit(X_train, y_train, \n",
    "                    epochs = EPOCHS,\n",
    "                    batch_size = BATCH_SIZE, \n",
    "                    verbose = 1,\n",
    "                    validation_data=(X_valid, y_valid))"
   ]
  },
  {
   "cell_type": "code",
   "execution_count": 39,
   "metadata": {
    "colab": {
     "base_uri": "https://localhost:8080/",
     "height": 295
    },
    "executionInfo": {
     "elapsed": 821,
     "status": "ok",
     "timestamp": 1636770751113,
     "user": {
      "displayName": "Tammy Gusmão",
      "photoUrl": "https://lh3.googleusercontent.com/a/default-user=s64",
      "userId": "03220826031629281663"
     },
     "user_tz": 240
    },
    "id": "13PXNf8Frg-d",
    "outputId": "4360d737-3c75-4953-b681-996a95359e06"
   },
   "outputs": [
    {
     "data": {
      "image/png": "[encoded data removed]",
      "text/plain": [
       "<Figure size 432x288 with 1 Axes>"
      ]
     },
     "metadata": {
      "needs_background": "light"
     },
     "output_type": "display_data"
    }
   ],
   "source": [
    "epochs = range(1, len(history.history['accuracy']) + 1)\n",
    "plt.plot(epochs, history.history['accuracy'], 'bo', label='Training acc')\n",
    "plt.plot(epochs, history.history['val_accuracy'], 'b', label='Validation acc')\n",
    "plt.title('Training and validation accuracy')\n",
    "plt.xlabel('Epochs')\n",
    "plt.ylabel('Loss')\n",
    "plt.legend()\n",
    "plt.show()"
   ]
  },
  {
   "cell_type": "code",
   "execution_count": 40,
   "metadata": {
    "colab": {
     "base_uri": "https://localhost:8080/",
     "height": 295
    },
    "executionInfo": {
     "elapsed": 17,
     "status": "ok",
     "timestamp": 1636770751114,
     "user": {
      "displayName": "Tammy Gusmão",
      "photoUrl": "https://lh3.googleusercontent.com/a/default-user=s64",
      "userId": "03220826031629281663"
     },
     "user_tz": 240
    },
    "id": "qoZHEpcbrkXG",
    "outputId": "ce1fe030-fd8f-4aec-e2af-a87f9cc80f22"
   },
   "outputs": [
    {
     "data": {
      "image/png": "[encoded data removed]",
      "text/plain": [
       "<Figure size 432x288 with 1 Axes>"
      ]
     },
     "metadata": {
      "needs_background": "light"
     },
     "output_type": "display_data"
    }
   ],
   "source": [
    "epochs = range(1, len(history.history['loss']) + 1)\n",
    "\n",
    "plt.plot(epochs, history.history['loss'], 'bo', label='Training loss')\n",
    "plt.plot(epochs, history.history['val_loss'], 'b', label='Validation loss')\n",
    "plt.title('Training and validation loss')\n",
    "plt.xlabel('Epochs')\n",
    "plt.ylabel('Loss')\n",
    "plt.legend()\n",
    "plt.show()"
   ]
  },
  {
   "cell_type": "code",
   "execution_count": 41,
   "metadata": {
    "colab": {
     "base_uri": "https://localhost:8080/"
    },
    "executionInfo": {
     "elapsed": 10544,
     "status": "ok",
     "timestamp": 1636770761646,
     "user": {
      "displayName": "Tammy Gusmão",
      "photoUrl": "https://lh3.googleusercontent.com/a/default-user=s64",
      "userId": "03220826031629281663"
     },
     "user_tz": 240
    },
    "id": "tKq33-Vo6va5",
    "outputId": "4dc4e9b3-afff-41f4-cc4d-33b1b63c9275"
   },
   "outputs": [
    {
     "name": "stdout",
     "output_type": "stream",
     "text": [
      "Test loss: 0.11154114454984665\n",
      "Test accuracy: 0.9740046262741089\n"
     ]
    }
   ],
   "source": [
    "score = model.evaluate(X_valid, y_valid, verbose=0)\n",
    "print('Test loss:', score[0])\n",
    "print('Test accuracy:', score[1])"
   ]
  },
  {
   "cell_type": "markdown",
   "metadata": {
    "id": "cKBJWUp0qvim"
   },
   "source": [
    "###Avaliando o Modelo"
   ]
  },
  {
   "cell_type": "code",
   "execution_count": 42,
   "metadata": {
    "executionInfo": {
     "elapsed": 25,
     "status": "ok",
     "timestamp": 1636770761647,
     "user": {
      "displayName": "Tammy Gusmão",
      "photoUrl": "https://lh3.googleusercontent.com/a/default-user=s64",
      "userId": "03220826031629281663"
     },
     "user_tz": 240
    },
    "id": "2ZtpjgOuAh5w"
   },
   "outputs": [],
   "source": [
    "#Plota uma matriz de confusão\n",
    "def plot_confusion_matrix(cm, classes, normalize=True, title='Confusion matrix', cmap=plt.cm.Blues):\n",
    "\n",
    "    plt.figure(figsize=(10,10))\n",
    "    plt.imshow(cm, interpolation='nearest', cmap=cmap)\n",
    "    plt.title(title)\n",
    "    plt.colorbar()\n",
    "    tick_marks = np.arange(len(classes))\n",
    "    plt.xticks(tick_marks, classes, rotation=45)\n",
    "    plt.yticks(tick_marks, classes)\n",
    "    if normalize:\n",
    "        cm = cm.astype('float') / cm.sum(axis=1)[:, np.newaxis]\n",
    "        cm = np.around(cm, decimals=2)\n",
    "        cm[np.isnan(cm)] = 0.0\n",
    "    thresh = cm.max() / 2.\n",
    "    for i, j in itertools.product(range(cm.shape[0]), range(cm.shape[1])):\n",
    "        plt.text(j, i, cm[i, j],\n",
    "                 horizontalalignment=\"center\",\n",
    "                 color=\"white\" if cm[i, j] > thresh else \"black\")\n",
    "    plt.tight_layout()\n",
    "    plt.ylabel('True label')\n",
    "    plt.xlabel('Predicted label')"
   ]
  },
  {
   "cell_type": "code",
   "execution_count": 43,
   "metadata": {
    "colab": {
     "base_uri": "https://localhost:8080/",
     "height": 729
    },
    "executionInfo": {
     "elapsed": 10508,
     "status": "ok",
     "timestamp": 1636770772132,
     "user": {
      "displayName": "Tammy Gusmão",
      "photoUrl": "https://lh3.googleusercontent.com/a/default-user=s64",
      "userId": "03220826031629281663"
     },
     "user_tz": 240
    },
    "id": "zVmhM7_O1sgO",
    "outputId": "f2ac76b2-c9c6-456e-afc7-157fa2adc1bb"
   },
   "outputs": [
    {
     "data": {
      "image/png": "[encoded data removed]",
      "text/plain": [
       "<Figure size 720x720 with 2 Axes>"
      ]
     },
     "metadata": {
      "needs_background": "light"
     },
     "output_type": "display_data"
    }
   ],
   "source": [
    "# Classificando toda base de teste\n",
    "y_pred = (model.predict(X_valid) > 0.5).astype(\"int32\")\n",
    "\n",
    "target_names = ['False', 'True']\n",
    "\n",
    "#Plotando a matriz de confusão\n",
    "cm = confusion_matrix(y_valid, y_pred)\n",
    "plot_confusion_matrix(cm, target_names, normalize=False, title='Confusion Matrix')"
   ]
  },
  {
   "cell_type": "code",
   "execution_count": 44,
   "metadata": {
    "colab": {
     "base_uri": "https://localhost:8080/"
    },
    "executionInfo": {
     "elapsed": 778,
     "status": "ok",
     "timestamp": 1636770825910,
     "user": {
      "displayName": "Tammy Gusmão",
      "photoUrl": "https://lh3.googleusercontent.com/a/default-user=s64",
      "userId": "03220826031629281663"
     },
     "user_tz": 240
    },
    "id": "fLKfcGxX_102",
    "outputId": "25de3677-f2ba-4bbb-900d-421aa2b15cf5"
   },
   "outputs": [
    {
     "name": "stdout",
     "output_type": "stream",
     "text": [
      "Classification Report\n",
      "              precision    recall  f1-score   support\n",
      "\n",
      "       False       0.99      0.96      0.97    108806\n",
      "        True       0.96      0.99      0.97    109348\n",
      "\n",
      "    accuracy                           0.97    218154\n",
      "   macro avg       0.97      0.97      0.97    218154\n",
      "weighted avg       0.97      0.97      0.97    218154\n",
      "\n"
     ]
    }
   ],
   "source": [
    "print('Classification Report')\n",
    "print(classification_report(y_valid, y_pred, target_names=target_names))"
   ]
  },
  {
   "cell_type": "markdown",
   "metadata": {
    "id": "BukYM3oxEmOO"
   },
   "source": [
    "##Geração do arquivo .pkl"
   ]
  },
  {
   "cell_type": "code",
   "execution_count": 47,
   "metadata": {
    "colab": {
     "base_uri": "https://localhost:8080/"
    },
    "executionInfo": {
     "elapsed": 1265,
     "status": "ok",
     "timestamp": 1636771398722,
     "user": {
      "displayName": "Tammy Gusmão",
      "photoUrl": "https://lh3.googleusercontent.com/a/default-user=s64",
      "userId": "03220826031629281663"
     },
     "user_tz": 240
    },
    "id": "OZpYaQI1GFDP",
    "outputId": "52fa0d27-64f9-4c86-af52-15bf0baf1af2"
   },
   "outputs": [
    {
     "name": "stdout",
     "output_type": "stream",
     "text": [
      "INFO:tensorflow:Assets written to: ram://71cb2c3d-159a-47ec-8e06-7808ba87d13f/assets\n"
     ]
    }
   ],
   "source": [
    "file_name = 'over_model_mlp.pkl'\n",
    "pickle.dump(model, open(file_name, \"wb\"))"
   ]
  }
 ],
 "metadata": {
  "colab": {
   "authorship_tag": "ABX9TyPEWu3T4M9T/20/vWZ4qCSz",
   "collapsed_sections": [],
   "name": "Trabalho Final - Ciências de Dados para Negócios.ipynb",
   "provenance": [],
   "toc_visible": true
  },
  "kernelspec": {
   "display_name": "Python 3 (ipykernel)",
   "language": "python",
   "name": "python3"
  },
  "language_info": {
   "codemirror_mode": {
    "name": "ipython",
    "version": 3
   },
   "file_extension": ".py",
   "mimetype": "text/x-python",
   "name": "python",
   "nbconvert_exporter": "python",
   "pygments_lexer": "ipython3",
   "version": "3.9.7"
  }
 },
 "nbformat": 4,
 "nbformat_minor": 1
}
